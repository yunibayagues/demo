{
 "cells": [
  {
   "cell_type": "markdown",
   "metadata": {},
   "source": [
    "# Introduction to Python, Jupyter notebook, Docker, and more. "
   ]
  },
  {
   "cell_type": "markdown",
   "metadata": {
    "scrolled": false
   },
   "source": [
    "## Goals (2 min)\n",
    "\n",
    "By the end of this case, you should have properly set up and familiarized yourself with Python, Jupyter, Docker, and Colab."
   ]
  },
  {
   "cell_type": "markdown",
   "metadata": {},
   "source": [
    "## What is Python? (5 min)"
   ]
  },
  {
   "cell_type": "markdown",
   "metadata": {},
   "source": [
    "![picture](data/images/logo_python.png)"
   ]
  },
  {
   "cell_type": "markdown",
   "metadata": {},
   "source": [
    "Python is a general-purpose programming language that allows for both simple and complex data analysis. Python is incredibly versatile, allowing analysts, consultants, engineers, and managers to obtain and analyze information for insightful decision-making.\n",
    "\n",
    "How did Python become the most popular programming language?\n",
    "\n",
    "* **Friendly syntax:** Python focuses on the *human readability* of its code\n",
    "* **Multi-paradigm:** Python works with many programming styles, including imperative programming, object-oriented programming, and functional programming (don't worry about what these are now)\n",
    "* **High-level programming language:** Great choice for beginners but also for advanced users\n",
    "* **Interpreted language:** It does not need to be compiled to be executed (again, don't worry about what this means for now)\n",
    "* **Dynamic typing:** The same variable can take values of different types (string '1' vs integer 1 vs float 1.0 vs boolean True) at different times. This makes Python very flexible in ways that other languages are not.\n",
    "* **Multi-platform:** It can be executed on different operating systems (Windows, Mac, Linux, etc.)\n",
    "* **Open source:** Python is free software and its license is administered by the Python Software Foundation, not by any for-profit entity\n",
    "\n",
    "For more information, go to: https://www.python.org/"
   ]
  },
  {
   "cell_type": "markdown",
   "metadata": {},
   "source": [
    "## How was Python created? Who created it? (3 min)\n",
    "\n",
    "Python was conceived in the late 1980s, and its implementation was started in December 1989 by the mathematician and computer scientist Guido van Rossum."
   ]
  },
  {
   "cell_type": "code",
   "execution_count": null,
   "metadata": {},
   "outputs": [],
   "source": [
    "from IPython.display import IFrame\n",
    "IFrame('https://www.youtube.com/embed/J0Aq44Pze-w', width=550, height=300)"
   ]
  },
  {
   "cell_type": "markdown",
   "metadata": {},
   "source": [
    "There are two types of source files that Python uses:\n",
    "\n",
    "1. **.py file:** These are regular Python files; in other words, they are files containing Python code. These files contain plain text and **can be created and edited with a text editor**.\n",
    "\n",
    "2. **.ipynb file:** These are interactive Python Notebook files. The Jupyter Notebook app (which you will see later) produces these notebook files, which are meant to represent code, text, and results."
   ]
  },
  {
   "cell_type": "markdown",
   "metadata": {},
   "source": [
    "## Text editors (7 min)\n",
    "\n",
    "**Text editors** are just software to help write and edit code rendered as plain text. Here are some of the most popular: \n",
    "\n",
    "![picture](data/images/text_editors.png)\n",
    "\n",
    "In respective order, these are: Sublime Text, Atom, Visual Studio Code, Spyder, PyCharm, and Notepad++.\n",
    "\n",
    "You may even have heard of or used some of these before. That's because text editors are quite ubiquitous and are used for many other purposes outside of coding."
   ]
  },
  {
   "cell_type": "markdown",
   "metadata": {},
   "source": [
    "### Exercise 1: (5 min)\n",
    "\n",
    "1. Open your favorite text editor (or try out one of the above).\n",
    "2. Create a new file.\n",
    "3. Copy the next line of code and paste it in your new file: \n",
    "\n",
    "    *print(\"Hello world\")*\n",
    "    \n",
    "    \n",
    "4. Save the file as: `my_first_program.py`.\n",
    "5. Open your terminal.\n",
    "6. Go to the path where you saved this file.\n",
    "7. Input: `python my_first_program.py` and run\n",
    "\n",
    "What are the results? How long did this take you? What are your opinions based on the many steps?\n",
    "\n",
    "**Note:** if you are having a hard time with steps 5 through 7, please watch [this video](https://player.vimeo.com/video/466285489)"
   ]
  },
  {
   "cell_type": "markdown",
   "metadata": {},
   "source": [
    "**Answer.**\n",
    "\n",
    "-----"
   ]
  },
  {
   "cell_type": "markdown",
   "metadata": {},
   "source": [
    "## What is Jupyter Notebook? (35 min)"
   ]
  },
  {
   "cell_type": "markdown",
   "metadata": {},
   "source": [
    "![picture](data/images/jupyter_.jpg)"
   ]
  },
  {
   "cell_type": "markdown",
   "metadata": {},
   "source": [
    "Did you notice how annoying that was to run a simple line of code? You had to first copy the code then open up a text editor, and finally actually run the code. You had to use three different programs - one to look up the code, one to write the code, and one to run the code. \n",
    "\n",
    "Interactive Jupyter Notebooks were created to allow for quicker interaction between writting, running and sharing the code."
   ]
  },
  {
   "cell_type": "markdown",
   "metadata": {},
   "source": [
    "The **[Jupyter Notebook](https://jupyter.org/index.html)** is an open-source web application that facilitates Python code development. Specifically:\n",
    "\n",
    "* Jupyter allows you to create visuals and plots **in-line**; that is, directly within the notebook itself. This means you don't need to go back and forth between your notebook and an external application or browser to view the results of your work!\n",
    "\n",
    "* Jupyter's natural environment is your web browser, rather than its own separate esoteric application. You can launch it easily and quickly switch to another webpage if you need to reference something (say, to look at an online Python code manual)."
   ]
  },
  {
   "cell_type": "code",
   "execution_count": null,
   "metadata": {},
   "outputs": [],
   "source": [
    "IFrame('https://www.youtube.com/embed/g8xQRI3E8r8', width=550, height=300)"
   ]
  },
  {
   "cell_type": "markdown",
   "metadata": {},
   "source": [
    "In Jupyter, each light gray box is called a **code cell**. They can contain code OR formatted text (Markdown) - you'll learn more about this later. \n",
    "\n",
    "Within a cell, Jupyter reads the code one line after another. Let's see a quick example: "
   ]
  },
  {
   "cell_type": "code",
   "execution_count": null,
   "metadata": {},
   "outputs": [],
   "source": [
    "print (\"Hello world\")"
   ]
  },
  {
   "cell_type": "markdown",
   "metadata": {},
   "source": [
    "You can see that the code is printed below the cell and a new cell has appeared right after the output."
   ]
  },
  {
   "cell_type": "markdown",
   "metadata": {},
   "source": [
    "### Keyboard Shortcuts (10 min)\n",
    "\n",
    "Jupyter notebook has many keyboard shortcuts to help you navigate it quickly, but the following are the ones you'll be using more often:\n",
    "\n",
    "\n",
    "* **[Up / Down Arrows]**: Move up and down from cell to cell\n",
    "\n",
    "* **[Enter]**: Go into a cell to be able to edit it\n",
    "\n",
    "* **[Shift + Enter]**: Evaluate a cell, show the result, and go to the next cell\n",
    "\n",
    "* **[Ctrl + Enter]**: Evaluate a cell, show the result, and stay in the cell\n",
    "\n",
    "* **[Alt + Enter]**: Evaluate a cell, display the result, and insert a cell below.\n",
    "\n",
    "* **[Esc] - [D] - [D]**: Delete a cell\n",
    "\n",
    "* **[Esc] - [Z]**: Undo delete a cell\n",
    "\n",
    "* **[Esc] - [B]**: Insert a cell below the current cell\n",
    "\n",
    "* **[Esc] - [A]**: Insert a cell above the current cell\n",
    "\n",
    "* **[Esc] - [M]**: Converts the code cell to Markdown\n",
    "\n",
    "* **[Esc] - [Y]**: Convert the Markdown cell to code\n",
    "\n",
    "\n",
    "For more keyboard shortcuts, go to \"Help -> Keyboard Shortcuts\" in the top menu bar of your Jupyter notebook."
   ]
  },
  {
   "cell_type": "markdown",
   "metadata": {},
   "source": [
    "New projects or new Jupyter notebooks initially contain nothing more than a single empty input field. Through the menu bar, you can add new fields, import libraries, or embed widgets (e.g. interactive elements like videos). In addition, there are buttons on the bar that allow you to run and stop the finished code, and save or export the entire notebook."
   ]
  },
  {
   "cell_type": "markdown",
   "metadata": {},
   "source": [
    "### Markdown (15 min)\n",
    "\n",
    "The cells of Jupyter notebooks house, among other things, code, text, mathematical formulas or equations, and other multimedia content. For formatted text, Jupyter Notebook uses the Markdown language. This is how this notebook you are reading right now can include lists, bold or italic text, tables, and images.\n",
    "\n",
    "Here's how to format Markdown cells in Jupyter notebooks:"
   ]
  },
  {
   "cell_type": "markdown",
   "metadata": {},
   "source": [
    "#### Headings (2 min)\n",
    "\n",
    "Use the number sign (#) followed by a blank space for notebook titles and section headings:\n",
    "\n",
    "<img src=\"data/images/markdown_tittles.png\"  alt=\"drawing\" width=\"270\" height=\"120\"/>"
   ]
  },
  {
   "cell_type": "markdown",
   "metadata": {},
   "source": [
    "#### Emphasis (2 min)\n",
    "\n",
    "Use the following code to emphasize text:\n",
    "\n",
    "<img src=\"data/images/emphasis.png\" alt=\"drawing\" width=\"300\" height=\"120\"/>"
   ]
  },
  {
   "cell_type": "markdown",
   "metadata": {},
   "source": [
    "#### Lists (2 min)\n",
    "\n",
    "Lists in Markdown are made by indicating an asterisk or a number, followed by a period if numbered lists are desired. Markdown automatically organizes the items by assigning them the correct number:\n",
    "\n",
    "1. Physics\n",
    "2. Mathematics\n",
    "    * Calculus\n",
    "    * Linear Algebra\n",
    "    * Probability\n",
    "        * Probability for begginers\n",
    "        * Advanced probability"
   ]
  },
  {
   "cell_type": "markdown",
   "metadata": {},
   "source": [
    "#### Images (2 min)\n",
    "\n",
    "The syntax for including images in Markdown is:\n",
    "\n",
    "<img src=\"data/images/image_ad.PNG\" alt=\"drawing\" width=\"250\" height=\"150\"/>\n",
    "\n",
    "where `name` refers to the name of the image you want to give it. This will appear in case the image cannot be loaded and the address can refer to a local image or a link on the Internet."
   ]
  },
  {
   "cell_type": "markdown",
   "metadata": {},
   "source": [
    "#### Links (2 min)\n",
    "\n",
    "The text cells can contain links, both to other parts of the document, as well as to Internet pages or other local files. The syntax for this is:\n",
    "\n",
    "<img src=\"data/images/link.png\" alt=\"drawing\" width=\"200\" height=\"150\"/>\n",
    "\n",
    "[Click here to check what link is inside](https://jupyter.org/about)"
   ]
  },
  {
   "cell_type": "markdown",
   "metadata": {},
   "source": [
    "#### Formulas (2 min)\n",
    "\n",
    "Thanks to the use of MathJax, code can be included in LaTeX to show all kinds of mathematical formulas and expressions. To render this type of math text, enclose text between dollar symbols ($):\n",
    "\n",
    "$f(x) = 3x^2 + 4x + 2$\n",
    "\n",
    "\n",
    "$g(x) = \\begin{cases} x^2 & x \\ge 0 \\\\ x & x < 0 \\end{cases}$\n",
    "\n",
    "\n",
    "$e^x=\\sum_{i=0}^\\infty \\frac{1}{i!}x^i$"
   ]
  },
  {
   "cell_type": "markdown",
   "metadata": {},
   "source": [
    "#### Colors (1 min)\n",
    "\n",
    "You can change the color of the text in your notebook. You can use this code: \n",
    "\n",
    "<img src=\"data/images/colors_code.PNG\" alt=\"drawing\" width=\"250\" height=\"150\"/>\n",
    "\n",
    "**<font color=blue>Hello world</font>\n",
    "<font color=orange>Hello world</font>\n",
    "<font color=green>Hello world</font>\n",
    "<font color=purple>Hello world</font>\n",
    "<font color=yellow>Hello world</font>\n",
    "<font color=red>Hello world</font>**"
   ]
  },
  {
   "cell_type": "markdown",
   "metadata": {},
   "source": [
    "#### Tables (2 min)\n",
    "\n",
    "You can create a table also, although creating a big one might take some time:\n",
    "\n",
    "| This | is   |  a   |table |\n",
    "|------|------|------|------|\n",
    "|   a  | b    |  c   |  d   |"
   ]
  },
  {
   "cell_type": "markdown",
   "metadata": {},
   "source": [
    "### Exercise 2: (5 min)\n",
    "\n",
    "Create a Jupyter notebook file with the following steps:\n",
    "\n",
    "1. In the menu bar, go to \"File -> New Notebook -> Python 3\".\n",
    "\n",
    "2. Once the new file is opened, click on the first cell. From the menu, select \"Cell -> Cell Type -> Markdown\".\n",
    "\n",
    "3. Create 4 different titles with 4 different font sizes, which read the following: \n",
    "\n",
    "    * Hello class!\n",
    "    * Welcome to DS4A\n",
    "    * Hope you enjoy this wonderful journey\n",
    "    * Have a great day and remember:\n",
    "\n",
    "\n",
    "4. Add a new cell below the previous one. Repeat step 2. Copy and paste the next sentence: \n",
    "\n",
    "   *“Life is like riding a bicycle. To keep your balance, you must keep moving.” ― Albert Einstein*\n",
    "   \n",
    "   \n",
    "5. Apply bold text to these words: \"Life\", \"To\", and \"you\".\n",
    "\n",
    "6. Apply Italic text to these words: \"bicycle\", \"balance\" and \"moving\".\n",
    "\n",
    "7. Apply Italic and bold text to \"Albert Einstein\".\n",
    "\n",
    "8. From the menu, clik \"File -> Save As\". Choose where you want to save the results of this exercise.\n",
    "\n",
    "9. From the menu, select \"File -> Rename\". Save as \"Exercise_2\""
   ]
  },
  {
   "cell_type": "markdown",
   "metadata": {},
   "source": [
    "**Answer.**\n",
    "\n",
    "---------"
   ]
  },
  {
   "cell_type": "markdown",
   "metadata": {},
   "source": [
    "## Using Jupyter Notebook (20 min)\n",
    "\n",
    "So far, we have only used Jupyter notebook to write text and format it. In order to tap into its full power, we will need to do a bit more setup. We recommend that you use **Docker**. From this, you'll be able to do everything you need to inside the notebook for this program!"
   ]
  },
  {
   "cell_type": "markdown",
   "metadata": {},
   "source": [
    "### What is Docker? (20 min)"
   ]
  },
  {
   "cell_type": "markdown",
   "metadata": {},
   "source": [
    "<img src=\"data/images/docker.png\" alt=\"drawing\" width=\"600\" height=\"150\"/>"
   ]
  },
  {
   "cell_type": "markdown",
   "metadata": {},
   "source": [
    "Docker is an open-source project capable of automating the deployment of applications within software containers, thus providing us with an additional layer of abstraction and automation at the operating system virtualization level on Linux.\n",
    "\n",
    "Ok, let's translate that into English:\n",
    "\n",
    "**The idea behind Docker is to make software portable, so that they can run on *any machine with Docker installed*, regardless of the operating system (Windows, Mac OS, Linux, etc.) that the machine is running on.**"
   ]
  },
  {
   "cell_type": "markdown",
   "metadata": {},
   "source": [
    "#### What is a container? (3 min)\n",
    "\n",
    "Docker allows you to put software into self-contained units that are closed off from the rest of your computer, called **containers**. Containers are useful just like food containers - if the food in one container goes bad, you can throw it out and nothing happens to the rest of your containers, because they're separated. In Docker, this means you can play around with installing and deleting stuff inside a container and, even if you destroy the container, it leaves the rest of your computer uneffected."
   ]
  },
  {
   "cell_type": "markdown",
   "metadata": {},
   "source": [
    "#### Why images? (2 min)\n",
    "\n",
    "Have you ever heard about the **images** of Docker? Docker offers an image-based deployment model. **This allows you to share a software application with all of its dependencies in multiple environments.** Docker also automates the deployment of the application in this container environment."
   ]
  },
  {
   "cell_type": "markdown",
   "metadata": {},
   "source": [
    "So, to sum it up - the distributor of a software application can share images with any machine that has Docker installed and run the application without having to worry about anything else, like which software versions that machine has installed, or if that machine has the necessary elements for your application to work. This is really powerful! No more worrying about if your operating system is Mac OS X 10.2 or 10.3 or 10.whatever."
   ]
  },
  {
   "cell_type": "markdown",
   "metadata": {},
   "source": [
    "Once you've installed Docker, and when you start your machine, you'll see a pop out from Docker telling you:\n",
    "\n",
    "1. Docker is starting \n",
    "2. Docker is running"
   ]
  },
  {
   "cell_type": "markdown",
   "metadata": {},
   "source": [
    "<img src=\"data/images/docker_starting_running.png\" alt=\"drawing\" width=\"700\" height=\"150\"/>"
   ]
  },
  {
   "cell_type": "markdown",
   "metadata": {},
   "source": [
    "**Note:** depending on your operating system, you may use Docker differently. For example, Windows 10 and recent macOS systems will use Docker Desktop. Linux machines will use Docker Engine, and older versions of macOS and Windows will use Docker Toolbox. This is explained in more detail in the `docker.pdf` document."
   ]
  },
  {
   "cell_type": "markdown",
   "metadata": {},
   "source": [
    "You can open **Docker Desktop** and you'll be able to see the containers that are running in Docker. Right now, you'll see that there are no containers running because we haven't entered anything yet:"
   ]
  },
  {
   "cell_type": "markdown",
   "metadata": {},
   "source": [
    "<img src=\"data/images/docker_no_containers_running.PNG\" alt=\"drawing\" width=\"750\" height=\"140\"/>"
   ]
  },
  {
   "cell_type": "markdown",
   "metadata": {},
   "source": [
    "If you are running Docker Engine or Docker Toolbox, you can list out all of the running containers in your terminal by using the command: \n",
    "```\n",
    "docker ps\n",
    "```"
   ]
  },
  {
   "cell_type": "markdown",
   "metadata": {},
   "source": [
    "#### Running a notebook using Docker (2 min)"
   ]
  },
  {
   "cell_type": "markdown",
   "metadata": {},
   "source": [
    "To start a notebook, consult the `docker.pdf` document and find the `docker run` command for your specific operating system (as you likely did to start this very notebook session!). Running that command in your terminal will start your notebook server.\n",
    "\n",
    "Once your server is running, navigate to http://127.0.0.1:8888 in your browser (you likely need a different address if you're using Docker Toolbox)."
   ]
  },
  {
   "cell_type": "markdown",
   "metadata": {},
   "source": [
    "<img src=\"data/images/docker_running_browser.PNG\" alt=\"drawing\" width=\"850\" height=\"140\"/>"
   ]
  },
  {
   "cell_type": "markdown",
   "metadata": {},
   "source": [
    "From here, you'll be able to see the **Jupyter dashboard**. Then, you can start navigating through your folders until you find the Jupyter notebook file you'd like to open:"
   ]
  },
  {
   "cell_type": "markdown",
   "metadata": {},
   "source": [
    "<img src=\"data/images/jupyter_dashboard.PNG\" alt=\"drawing\" width=\"1000\" height=\"200\"/>"
   ]
  },
  {
   "cell_type": "markdown",
   "metadata": {},
   "source": [
    "So what do we do from here? Besides finding the Jupyter notebooks that you want to open, you need to install the **requirements** for each case that you're going to see in class. In the top right-hand corner, click \"New -> Terminal\". You will see this:"
   ]
  },
  {
   "cell_type": "markdown",
   "metadata": {},
   "source": [
    "<img src=\"data/images/jupyter_terminal.PNG\" alt=\"drawing\" width=\"1000\" height=\"200\"/>"
   ]
  },
  {
   "cell_type": "markdown",
   "metadata": {},
   "source": [
    "Now, follow these instructions:\n",
    "\n",
    "1. If you type `ls` and press Enter, you'll see the folders and files you have so you can begin navigating: "
   ]
  },
  {
   "cell_type": "markdown",
   "metadata": {},
   "source": [
    "<img src=\"data/images/jupyter_terminal_ls.PNG\" alt=\"drawing\" width=\"1000\" height=\"200\"/>"
   ]
  },
  {
   "cell_type": "markdown",
   "metadata": {},
   "source": [
    "2. To enter the folder \"work\", type `cd work`. (`cd` means \"change directory\"; i.e. go to the directory \"work\".)\n",
    "3. Now you can keep navigating until you get to the folder you want:"
   ]
  },
  {
   "cell_type": "markdown",
   "metadata": {},
   "source": [
    "<img src=\"data/images/jupyter_terminal_ls_cd.PNG\" alt=\"drawing\" width=\"800\" height=\"200\"/>"
   ]
  },
  {
   "cell_type": "markdown",
   "metadata": {},
   "source": [
    "4. When you're located in the right folder (for this example, we're going to use the \"case_0.1\" folder), type:\n",
    "```bash \n",
    "pip install -r requirements.txt\n",
    "```\n",
    "and then hit Enter, to correctly install the requirements for this notebook.\n",
    "\n",
    "5. You're all set up! You're now ready to go back to the Jupyter dashboard, and find the Jupyter notebook file you want to open. \n",
    "\n",
    "6. **<font color=green>Don't forget to follow these steps and install the *requirements* before every case from here on out!</font>**"
   ]
  },
  {
   "cell_type": "markdown",
   "metadata": {},
   "source": [
    "### Some other options\n",
    "\n",
    "There are other programs one can use, to access Jupyter notebooks. These include the Anaconda distribution (not discussed here) or Google Colab."
   ]
  },
  {
   "cell_type": "markdown",
   "metadata": {},
   "source": [
    "## What is Colab? (5 min)"
   ]
  },
  {
   "cell_type": "markdown",
   "metadata": {},
   "source": [
    "<img src=\"data/images/colab.png\" alt=\"drawing\" width=\"400\" height=\"150\" />"
   ]
  },
  {
   "cell_type": "markdown",
   "metadata": {},
   "source": [
    "Another option to create and run Jupyter Notebooks is **[Google Colab](https://colab.research.google.com/notebooks/intro.ipynb?hl=en).** Google Colaboratory is a free Jupyter notebook environment that requires no configuration and runs entirely in the cloud.\n",
    "\n",
    "The main advantage offered by this tool is that it frees our machine from having to carry out work that is too expensive in both time and computational power. Another benefit is indicated by the name itself, \"Colaboratory\"; that is, it allows us to carry out tasks in the cloud and share our notebooks with other members of the same team.\n",
    "\n",
    "**Benefits:**\n",
    "* No configuration required\n",
    "* Share easily\n",
    "\n",
    "**Trade Offs:**\n",
    "* You need to have an internet conection. It doesn't run offline\n",
    "* Data sets that are imported into the environment without being uploaded from Google Drive will be lost when the virtual machine is shut down"
   ]
  },
  {
   "cell_type": "markdown",
   "metadata": {},
   "source": [
    "## Conclusions (5 min)\n",
    "\n",
    "More and more companies are incorporating Python-capable hires into their teams to better understand their data.\n",
    "\n",
    "Python is very intuitive, so any professional can spend less time learning it and more time on how to use it to create innovative products with it.\n",
    "\n",
    "Jupyter is a fantastic free tool that is becoming the standard in the world of data analysis. The community that is using it is very active and heterogeneous, which is enriching development and integration with other tools and platforms.\n",
    "\n",
    "Here is a summary of the benefits of the Jupyter Notebook:\n",
    "\n",
    "* Open-source\n",
    "* Free\n",
    "* Works in the browser\n",
    "* Live coding\n",
    "* Various options for exporting and sharing results\n",
    "* Allows collaboration (JupyterHub)\n",
    "* Supports more than 50 programming languages (not just Python!)\n"
   ]
  },
  {
   "cell_type": "markdown",
   "metadata": {},
   "source": [
    "## Takeaways (1 min)\n",
    "\n",
    "We've learned the foundations of Python, Jupyter Notebook, and Google Colaboratory. \n",
    "\n",
    "We highly recommend revisiting this case a few more times and going through it from beginning to end with no aid/answers. It is the foundation of every single case from here on out."
   ]
  }
 ],
 "metadata": {
  "kernelspec": {
   "display_name": "Python 3",
   "language": "python",
   "name": "python3"
  },
  "language_info": {
   "codemirror_mode": {
    "name": "ipython",
    "version": 3
   },
   "file_extension": ".py",
   "mimetype": "text/x-python",
   "name": "python",
   "nbconvert_exporter": "python",
   "pygments_lexer": "ipython3",
   "version": "3.6.7"
  }
 },
 "nbformat": 4,
 "nbformat_minor": 4
}
