{
 "cells": [
  {
   "cell_type": "markdown",
   "metadata": {},
   "source": [
    "# Fixing bugs and resolving problems - how to get unstuck"
   ]
  },
  {
   "cell_type": "markdown",
   "metadata": {},
   "source": [
    "## Introduction\n",
    "\n",
    "Even for the best programmers, coding isn't a case of sitting down and typing. Getting stuck due to an unexpected error in the code (known as a **bug**) is very common, and it can feel very frustrating when it happens. Sometimes, it can lead a task which you thought would only take 5 minutes to take a few hours.\n",
    "\n",
    "However, what differentiates experienced programmers from beginners is how they get unstuck. A beginner might keep trying the same thing over and over again, search for generic advice, or post a request for help that doesn't contain enough details for others to assist. Experienced coders have learned exactly how and where to find solutions to their problems, and how to give enough detail when getting help from others.\n",
    "\n",
    "In this case, you'll see how to effectively resolve problems while coding."
   ]
  },
  {
   "cell_type": "markdown",
   "metadata": {},
   "source": [
    "## Reading error messages\n",
    "\n",
    "The first thing to learn is how to properly read an **error message**. It can be intimidating when you run your code and see dozens or hundreds of lines telling you that something went wrong, but each of these lines helps you track down the root cause of the issue at a different level. Learning where to start reading, and which parts of the output are important, is always the first step.\n",
    "\n",
    "Normally, when you program crashes, you'll see something called a **stack trace**, which attempts to trace the origin of your error. It is up to you to read and decipher this to help deal with the problem."
   ]
  },
  {
   "cell_type": "markdown",
   "metadata": {},
   "source": [
    "### Example 1: StatisticsError\n",
    "\n",
    "Let's take a look at an example. Run the following code:"
   ]
  },
  {
   "cell_type": "code",
   "execution_count": 1,
   "metadata": {},
   "outputs": [
    {
     "ename": "StatisticsError",
     "evalue": "mean requires at least one data point",
     "output_type": "error",
     "traceback": [
      "\u001b[0;31m---------------------------------------------------------------------------\u001b[0m",
      "\u001b[0;31mStatisticsError\u001b[0m                           Traceback (most recent call last)",
      "\u001b[0;32m<ipython-input-1-ba6ef86c5a24>\u001b[0m in \u001b[0;36m<module>\u001b[0;34m\u001b[0m\n\u001b[1;32m      6\u001b[0m \u001b[0;34m\u001b[0m\u001b[0m\n\u001b[1;32m      7\u001b[0m \u001b[0;34m\u001b[0m\u001b[0m\n\u001b[0;32m----> 8\u001b[0;31m \u001b[0mget_mean\u001b[0m\u001b[0;34m(\u001b[0m\u001b[0;34m[\u001b[0m\u001b[0;34m]\u001b[0m\u001b[0;34m)\u001b[0m\u001b[0;34m\u001b[0m\u001b[0;34m\u001b[0m\u001b[0m\n\u001b[0m",
      "\u001b[0;32m<ipython-input-1-ba6ef86c5a24>\u001b[0m in \u001b[0;36mget_mean\u001b[0;34m(xs)\u001b[0m\n\u001b[1;32m      3\u001b[0m \u001b[0;34m\u001b[0m\u001b[0m\n\u001b[1;32m      4\u001b[0m \u001b[0;32mdef\u001b[0m \u001b[0mget_mean\u001b[0m\u001b[0;34m(\u001b[0m\u001b[0mxs\u001b[0m\u001b[0;34m)\u001b[0m\u001b[0;34m:\u001b[0m\u001b[0;34m\u001b[0m\u001b[0;34m\u001b[0m\u001b[0m\n\u001b[0;32m----> 5\u001b[0;31m     \u001b[0;32mreturn\u001b[0m \u001b[0mstatistics\u001b[0m\u001b[0;34m.\u001b[0m\u001b[0mmean\u001b[0m\u001b[0;34m(\u001b[0m\u001b[0mxs\u001b[0m\u001b[0;34m)\u001b[0m\u001b[0;34m\u001b[0m\u001b[0;34m\u001b[0m\u001b[0m\n\u001b[0m\u001b[1;32m      6\u001b[0m \u001b[0;34m\u001b[0m\u001b[0m\n\u001b[1;32m      7\u001b[0m \u001b[0;34m\u001b[0m\u001b[0m\n",
      "\u001b[0;32m/opt/conda/lib/python3.6/statistics.py\u001b[0m in \u001b[0;36mmean\u001b[0;34m(data)\u001b[0m\n\u001b[1;32m    309\u001b[0m     \u001b[0mn\u001b[0m \u001b[0;34m=\u001b[0m \u001b[0mlen\u001b[0m\u001b[0;34m(\u001b[0m\u001b[0mdata\u001b[0m\u001b[0;34m)\u001b[0m\u001b[0;34m\u001b[0m\u001b[0;34m\u001b[0m\u001b[0m\n\u001b[1;32m    310\u001b[0m     \u001b[0;32mif\u001b[0m \u001b[0mn\u001b[0m \u001b[0;34m<\u001b[0m \u001b[0;36m1\u001b[0m\u001b[0;34m:\u001b[0m\u001b[0;34m\u001b[0m\u001b[0;34m\u001b[0m\u001b[0m\n\u001b[0;32m--> 311\u001b[0;31m         \u001b[0;32mraise\u001b[0m \u001b[0mStatisticsError\u001b[0m\u001b[0;34m(\u001b[0m\u001b[0;34m'mean requires at least one data point'\u001b[0m\u001b[0;34m)\u001b[0m\u001b[0;34m\u001b[0m\u001b[0;34m\u001b[0m\u001b[0m\n\u001b[0m\u001b[1;32m    312\u001b[0m     \u001b[0mT\u001b[0m\u001b[0;34m,\u001b[0m \u001b[0mtotal\u001b[0m\u001b[0;34m,\u001b[0m \u001b[0mcount\u001b[0m \u001b[0;34m=\u001b[0m \u001b[0m_sum\u001b[0m\u001b[0;34m(\u001b[0m\u001b[0mdata\u001b[0m\u001b[0;34m)\u001b[0m\u001b[0;34m\u001b[0m\u001b[0;34m\u001b[0m\u001b[0m\n\u001b[1;32m    313\u001b[0m     \u001b[0;32massert\u001b[0m \u001b[0mcount\u001b[0m \u001b[0;34m==\u001b[0m \u001b[0mn\u001b[0m\u001b[0;34m\u001b[0m\u001b[0;34m\u001b[0m\u001b[0m\n",
      "\u001b[0;31mStatisticsError\u001b[0m: mean requires at least one data point"
     ]
    }
   ],
   "source": [
    "import statistics\n",
    "\n",
    "\n",
    "def get_mean(xs):\n",
    "    return statistics.mean(xs)\n",
    "\n",
    "\n",
    "get_mean([])"
   ]
  },
  {
   "cell_type": "markdown",
   "metadata": {},
   "source": [
    "You should see around 20 lines of output. Usually, it's best to start at the last line, which provides a summary of what error occurred:\n",
    "\n",
    "```python\n",
    "StatisticsError: mean requires at least one data point\n",
    "```\n",
    "\n",
    "The first part (`StatisticsError`) is the **kind** of error that was thrown. In this case, we are told that we made some kind of statistical error. It's followed by a **description** (`mean requires at least one data point`). In our case, we tried to calculate the mean of an empty list, which is not defined in statistics, so we got an error. Problem solved!\n",
    "\n",
    "But even though this is a simple case, let's examine the rest of the error output as in more complicated cases it's not always obvious what is wrong just from the last line:\n",
    "\n",
    "1. If you read further up, you'll see a snippet of code. This is where the error was originally triggered. The code doesn't look familiar (we didn't write it as part of our example) and the output also confirms that this is not from one of \"our\" files. It's from:\n",
    "\n",
    "```\n",
    "[....]/statistics.py in mean(data)\n",
    "```\n",
    "\n",
    "which is a standard Python library. It's very unlikely that something is wrong with the Python library (or with third party libraries in general), so we can ignore this, and keep moving further up.\n",
    "\n",
    "2. The next section is more familiar:\n",
    "\n",
    "```\n",
    "<ipython-input-4-ba6ef86c5a24> in get_mean(xs)\n",
    "```\n",
    "\n",
    "This tells us that the problem was in our `get_mean(xs)` function. We wrote this, so this is already more helpful. Looking at the function though, it seems fine - it takes an input, calculates the mean, and returns the result. **Note the ```---->``` indicators, which show exactly which line caused the error from the several lines of surrounding code that are shown**.\n",
    "\n",
    "3. Finally, move up to the first section. We see another ```---->``` indicator:\n",
    "\n",
    "```python\n",
    "----> 8 get_mean([])\n",
    "```\n",
    "\n",
    "Here is finally what we can think of as the real \"cause\" of the error. We passed in an empty list to our `get_mean()` function, which doesn't know how to handle it. We could fix our code here, or modify the code in the definition of the function to handle empty lists."
   ]
  },
  {
   "cell_type": "markdown",
   "metadata": {},
   "source": [
    "### Example 2: NameError\n",
    "\n",
    "Here is another common error. Run the following code:"
   ]
  },
  {
   "cell_type": "code",
   "execution_count": 2,
   "metadata": {},
   "outputs": [
    {
     "ename": "NameError",
     "evalue": "name 'spam' is not defined",
     "output_type": "error",
     "traceback": [
      "\u001b[0;31m---------------------------------------------------------------------------\u001b[0m",
      "\u001b[0;31mNameError\u001b[0m                                 Traceback (most recent call last)",
      "\u001b[0;32m<ipython-input-2-07c9d5eda0c3>\u001b[0m in \u001b[0;36m<module>\u001b[0;34m\u001b[0m\n\u001b[0;32m----> 1\u001b[0;31m \u001b[0;36m4\u001b[0m \u001b[0;34m+\u001b[0m \u001b[0mspam\u001b[0m\u001b[0;34m\u001b[0m\u001b[0;34m\u001b[0m\u001b[0m\n\u001b[0m",
      "\u001b[0;31mNameError\u001b[0m: name 'spam' is not defined"
     ]
    }
   ],
   "source": [
    "4 + spam"
   ]
  },
  {
   "cell_type": "markdown",
   "metadata": {},
   "source": [
    "This is a much simpler example as we only have one line of code, so we don't need to search for where the error is triggered. A `NameError` means that we tried to use a variable without defining what it was first. In this case, we try to use `spam`, but we never defined what that meant.\n",
    "\n",
    "`StatisticsError` is a bit more self-explanatory than `NameError`. Luckily, as before, the error is followed by a description.\n",
    "\n",
    "If you're still confused by this though, help is often just one search away. You have probably heard the phrase \"Google is your friend\". Try searching for \"Python NameError\". In this case, the first two results go straight to the official documentation. These docs are very useful, but also very verbose and it's often hard to find exactly the information you're looking for.\n",
    "\n",
    "The third result by contrast is specifically about NameErrors, and it gives many examples of why they might occur along with how to fix them:"
   ]
  },
  {
   "cell_type": "markdown",
   "metadata": {},
   "source": [
    "![](data/images/nameerror.png)"
   ]
  },
  {
   "cell_type": "markdown",
   "metadata": {},
   "source": [
    "### Exercise 1:\n",
    "\n",
    "Run the following code and read the error output that it produces. What kind of error is being thrown? Make a change to the code that allows it to run without an error."
   ]
  },
  {
   "cell_type": "code",
   "execution_count": 18,
   "metadata": {},
   "outputs": [
    {
     "name": "stdout",
     "output_type": "stream",
     "text": [
      "You done goofed\n",
      "None\n"
     ]
    }
   ],
   "source": [
    "def f(x):\n",
    "    if x ==0: \n",
    "        print(\"You done goofed\")\n",
    "    else:\n",
    "        return 1/x\n",
    "\n",
    "def g(y):\n",
    "    return f(y)\n",
    "\n",
    "print(g(0))\n"
   ]
  },
  {
   "cell_type": "markdown",
   "metadata": {},
   "source": [
    "**Answer.**\n",
    "\n",
    "---------"
   ]
  },
  {
   "cell_type": "markdown",
   "metadata": {},
   "source": [
    "Now you've seen how to identify basic error messages and look for help when you need more detail. Sometimes there's more going on than a small typo in your code though. You might face issues that are harder to fix with incompatible libraries, corrupted data, or a million other things that could not go as expected.\n",
    "\n",
    "Let's take a look at how to do deeper research on more specific problems."
   ]
  },
  {
   "cell_type": "markdown",
   "metadata": {},
   "source": [
    "## Researching a specific problem\n",
    "\n",
    "Sometimes your problems will be more obscure, and in these cases, the results that come up top on Google for your first search might not be as helpful. In these cases, it's often useful to narrow down your search to sites that specialize in helping you fix coding problems. The most popular site like this is **StackOverflow.com**, which you might have come across before. It's a Q&A forum where users can ask and answer programming-related questions, and vote on which answers are the best, allowing them to rise to the top and show up first when you search for them.\n",
    "\n",
    "Adding `site:stackoverflow.com` to your Google query, which will limit results to those from this site, can help you get better results.\n",
    "\n",
    "![](./data/images/googlestackoverflow.png)"
   ]
  },
  {
   "cell_type": "markdown",
   "metadata": {},
   "source": [
    "StackOverflow is a gold mine of information as it has searchable records of nearly 20 million questions and answers, asked and answered by programmers of all levels. It also has a reputation for not always being the friendliest place in the world though - to keep questions and answers useful, there are strict guidelines on what kind of questions can be posted and how they should be formulated.\n",
    "\n",
    "Most users love to help out but simply don't have the time to scan through blocks of code trying to figure out by themselves what the actual question is. So in order to get a good answer, you need to ask your question in a way that makes it easy for people to answer."
   ]
  },
  {
   "cell_type": "markdown",
   "metadata": {},
   "source": [
    "### Posting your own questions to Stackoverflow\n",
    "\n",
    "If you can't find an answer by searching, you can always post your own. You just need to sign up for a free account. Read https://stackoverflow.com/help/how-to-ask before your first post, and don't be discouraged if you get some responses saying that you did it wrong.\n",
    "\n",
    "When using StackOverflow for help while doing course work, there's always a fine line between getting help (good) and getting someone to do your work for you (not so good). Keep in mind the following guidelines when posting a question:\n",
    "\n",
    "1. Only post a question after you've spent time trying to solve it on your own first\n",
    "2. If you need to post the exact homework question to explain your problem, you're probably asking too much. Try to post a more general and smaller part of the problem that you are stuck with.\n",
    "3. Post as much detail as is needed, but not irrelevant details\n",
    "\n",
    "When in doubt, err on the side of sharing too much information. But being able to distinguish between information that is specific to *you* from that which is specific to *the error* is very useful. For example, in one of the error outputs we looked at above we saw:\n",
    "\n",
    "```python\n",
    "<ipython-input-13-b87d9ca00908> in f(x)\n",
    "      1 def f(x):\n",
    "----> 2     return 1/x\n",
    "      3 \n",
    "      4 def g(y):\n",
    "      5     return f(y)\n",
    "\n",
    "ZeroDivisionError: division by zero\n",
    "```\n",
    "\n",
    "Here, \"ZeroDivisionError: division by zero\" relates to the error. Everyone who has experienced this error will see this part of the output exactly the same, so it will likely appear in relevant questions and answers.\n",
    "\n",
    "\"<ipython-input-13-b87d9ca00908>\", \"def f(x):\", and \"def g(y):\" are all specific to *this particular code* though. Functions can be called anything, and 'b87d9ca00908' is a randomly generated string that gets zero results on Google, so including it or searching for it is less likely to be helpful.\n",
    "    \n",
    "Figuring out which parts of the output are relevant is not always easy, but it gets easier with experience. Another example is the **file paths** that often appear in error messages. If you see something like `Error in C:/Users/JohnSmith/Python/lib/python3.8/statistics.py`, the path is likely to be unique to your machine. Try to remove anything like this from your search for better results (and when posting a question it also helps you not leak personal information)."
   ]
  },
  {
   "cell_type": "markdown",
   "metadata": {},
   "source": [
    "### Exercise 2:\n",
    "\n",
    "Try to run the following code. See what parts you understand (it's deliberately written to be confusing, so don't worry if you don't understand it).\n",
    "\n",
    "Create an account on StackOverflow and post your first question. Follow all of the relevant guidelines at https://stackoverflow.com/help/how-to-ask to explain exactly what you find confusing. See what kinds of responses you get and how long it takes."
   ]
  },
  {
   "cell_type": "code",
   "execution_count": 19,
   "metadata": {},
   "outputs": [
    {
     "data": {
      "text/plain": [
       "[6.5, 5.5, 4.5, 3.5, 2.5]"
      ]
     },
     "execution_count": 19,
     "metadata": {},
     "output_type": "execute_result"
    }
   ],
   "source": [
    "def f(xs):\n",
    "    def g(ys):\n",
    "        return ys[::-1]\n",
    "    \n",
    "    return [x-2+(2*7/4) for x in g(xs[:-2])]\n",
    "\n",
    "f([1,2,3,4,5,6,7])"
   ]
  },
  {
   "cell_type": "markdown",
   "metadata": {},
   "source": [
    "**Hints:** The title will be the first thing people will see so make it good. Pretend you are talking to someone that is in a hurry and you need to explain your whole question to them in one sentence. \n",
    "\n",
    "Examples:\n",
    "\n",
    "- Bad: Confused about Python\n",
    "- Good: Help me understand how `[::-1`] works in Python\n",
    "\n",
    "It also helps to include a description of what you did to try figure it out on your own. In this case, try changing the last line to include different numbers, add more numbers, and/or remove some of the numbers in the original example. Even if you think you're wrong, explaining your thoughts will allow others to see exactly what is confusing you."
   ]
  },
  {
   "cell_type": "markdown",
   "metadata": {},
   "source": [
    "### A useful debugging practice\n",
    "\n",
    "Even after carefully reading the error message, doing research, and posting your own question, you might still be stuck. After banging your head against a problem for hours or days, it's common to have thoughts like \"Maybe programming is just not for me\", or \"I'm not good enough for this\". This happens to everyone so don't stress!\n",
    "\n",
    "**Rubber duck debugging** is one way to get out of a rut. You've probably had the experience before (outside of programming) where as you explained a difficult problem to someone, the solution became obvious as you were talking. Explaining your problem in detail is a great way to solve it. Instead of always needing to keep a friend handy, some programmers are known to have an inanimate object (for example, a rubber duck) on their desk that they can talk to. The name was first used in the book *The Pragmatic Programmer* in which the author describes debugging his code by talking to a yellow rubber duck. \n",
    "\n",
    "Looking at the same code for hours can make you become a bit myopic. Explaining your code to someone or in this case something helps you see the problem from a different perspective. This method also helps when writing a question on StackOverflow."
   ]
  },
  {
   "cell_type": "markdown",
   "metadata": {},
   "source": [
    "## Conclusions & Takeaways\n",
    "\n",
    "In this case, you learned more about errors and how to resolve them. Specifically, you learned how to:\n",
    "\n",
    "1. Read error messages and find the exact cause of the error in your code\n",
    "2. Do research to find the answers to your problems that others have had before\n",
    "3. Ask your question online in a way that will lead to answers\n",
    "4. Debug your problems on your own when everything else seems impossible\n",
    "\n",
    "Debugging and persevering through problems that seem impossible is a huge part of coding at all levels. There are no shortcuts that will let you avoid these problems completely, but using these foundations will help you throughout your career."
   ]
  }
 ],
 "metadata": {
  "kernelspec": {
   "display_name": "Python 3",
   "language": "python",
   "name": "python3"
  },
  "language_info": {
   "codemirror_mode": {
    "name": "ipython",
    "version": 3
   },
   "file_extension": ".py",
   "mimetype": "text/x-python",
   "name": "python",
   "nbconvert_exporter": "python",
   "pygments_lexer": "ipython3",
   "version": "3.6.7"
  }
 },
 "nbformat": 4,
 "nbformat_minor": 4
}
