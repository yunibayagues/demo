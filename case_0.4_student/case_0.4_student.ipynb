{
 "cells": [
  {
   "cell_type": "markdown",
   "metadata": {},
   "source": [
    "# How can I effectively use the command line?"
   ]
  },
  {
   "cell_type": "markdown",
   "metadata": {},
   "source": [
    "## Goals\n",
    "\n",
    "In this case, you'll become familiar with using your computer via a **command line interface (CLI)**. You'll: \n",
    "\n",
    "* Get access to a bash-based command line, either using Terminal, WSL, or a cloud virtual machine\n",
    "* Be introduced to the most commonly used commands such as `ls`, `mkdir`, `cd` and a few others\n",
    "* Be introduced to some more advanced commands such as `cat` and `nano`\n",
    "* See how to carry out basic tasks such as a frequency analysis using only command line tools\n",
    "\n",
    "You'll be able to use this knowledge to do basic text manipulation and data science as well as to install and configure other software on your machine."
   ]
  },
  {
   "cell_type": "markdown",
   "metadata": {},
   "source": [
    "## Introduction\n",
    "\n",
    "Most people are used to using their computer via a **graphical user interface (GUI)**. Programmers more commonly use a CLI. With a GUI, you interact with programs using your mouse, menus, and buttons. Using a CLI, you can achieve the same things by only using text commands typed into your computer.\n",
    "\n",
    "There are pros and cons to both approaches. Generally speaking, CLIs have a steeper learning curve. If you're not used to them, you'll be slower in the beginning than if you just used a mouse. However, once you conquer the learning curve you can be far more efficient and productive using CLIs over GUIs.\n",
    "\n",
    "Other advantages of CLIs include:\n",
    "\n",
    "* **Power:** GUIs offer only a subset of features that are actually available for a given program. By using a CLI, you will have more direct control and can access many more features.\n",
    "\n",
    "* **Conformity:** CLIs are often the same, or very similar, across a wide variety of machines and over time. CLIs from 20 years ago will often still work on modern machines, while every update to a program that uses a GUI tends to move controls around and add/remove others.\n",
    "\n",
    "There is a lot of history of command line interfaces, [computer terminals](https://en.wikipedia.org/wiki/Computer_terminal), [Linux](https://en.wikipedia.org/wiki/Linux) / [Unix](https://en.wikipedia.org/wiki/Unix), and [bash](https://en.wikipedia.org/wiki/Bash_(Unix_shell)). You should find some time to skim through this for context. In this case, we'll just be covering the basics of what you need to know to be productive."
   ]
  },
  {
   "cell_type": "markdown",
   "metadata": {},
   "source": [
    "### Command lines on different operating systems\n",
    "\n",
    "A separate `terminal.pdf` details the instructions necessary to configure and launch the terminal/command line appropriate for your operating system. If you do not have the document handy, please ask a teaching assistant for help."
   ]
  },
  {
   "cell_type": "markdown",
   "metadata": {},
   "source": [
    "## First steps\n",
    "In a command-prompt window, type `pwd`. You should see the text change to resemble the following:\n",
    "\n",
    "![pwd](data/images/01-pwd.png)"
   ]
  },
  {
   "cell_type": "markdown",
   "metadata": {},
   "source": [
    "The `pwd` command stands for \"print working directory\". When using text interfaces, print simply means \"display text on the screen\" (and has nothing to do with inkjet or laser printers). The working directory is the currently active directory, which we'll see how to change soon.\n",
    "\n",
    "The above shows the result of running the command on Windows WSL. In that context, we are in our default or 'home' directory, which should be the same as your Windows username. Mine is 'G' and the full hard drive path to this location is `/mnt/c/Users/G`. By default, our command line prompt shows us the currently active directory at the start of each new line (known as a \"prompt\" as it's prompting us for input).\n",
    "\n",
    "On Linux or Mac OS X machines, the `pwd` output is similiar, but the path differs based on the file-system structure of the operating system being used. For example, on Mac OS X, it'll likely start with `/Users/` and on Ubuntu it would start with `/home`.\n",
    "\n",
    "However, we know that everything is set up and working now, so we can start running some more interesting commands."
   ]
  },
  {
   "cell_type": "markdown",
   "metadata": {},
   "source": [
    "## Navigating your file system\n",
    "\n",
    "If you're used to using Windows Explorer, Finder, or the equivalent to view and open files, the command prompt is not a big conceptual jump. It interacts with your file system in a very similar way, but while in the graphic explorer you might double click on your \"Downloads\" folder and scroll through your recently downloaded documents, in the command prompt this is all done with text inputs and outputs."
   ]
  },
  {
   "cell_type": "markdown",
   "metadata": {},
   "source": [
    "### Viewing all files in a folder\n",
    "\n",
    "One of the most frequently issued commands is **`ls`** which is short for `list directory`. It outputs a list of all the files and directories (folders) in the current active directory.\n",
    "\n",
    "In the command-prompt, type `ls` and press enter. Note that everything you do through a command line interface has to be extremely precise. Case matters, so `LS` or `Ls` will not work. Each space and where you put it is also important, as you'll soon find out.\n",
    "\n",
    "![ls](data/images/02-ls.png)\n",
    "\n",
    "Depending on exactly what's in your main User directory, you might see a lot of output. File explorers tend to hide system files, but you'll see all files when using the command prompt. In the example above you can see some directories such as \"My Documents\" and \"Music\" (which should be familiar to you), as well as some system files (e.g. `ntuser.dat` on Windows, which is probably not familiar to you)."
   ]
  },
  {
   "cell_type": "markdown",
   "metadata": {},
   "source": [
    "### Moving between folders\n",
    "\n",
    "One of the next most frequently used commands is **`cd`** or \"change directory\". You use this command to change the active (\"current\") directory. In our case, the current directory is our User's directory and there's already a subdirectory called \"Desktop\". Try running:\n",
    "\n",
    "```bash\n",
    "cd Desktop\n",
    "```\n",
    "\n",
    "and then \n",
    "\n",
    "```bash\n",
    "ls\n",
    "```\n",
    "\n",
    "If you had a Desktop folder, you should now see a list of files on your Desktop, which in my case is just a bunch of image files. Regardless, what you see here will be quite familiar to you, since you interact with your computer's Desktop regularly when using your mouse and GUI.\n",
    "\n",
    "![cd](data/images/04-ls-desktop-cd.png)\n",
    "\n",
    "It's also important to understand **directory hierarchies**. In our case, Desktop is a subfolder of the 'G' user folder. We can also use commands to navigate up this hierarchy. The full path to the Desktop folder is `/mnt/c/Users/G/Desktop`, but because we were already \"in\" the folder one level above Desktop, we could simply type `cd Desktop`. If we had been in a different location in the folder structure, we would have had to type \n",
    "\n",
    "```bash\n",
    "cd /mnt/c/Users/G/Desktop` \n",
    "```\n",
    "\n",
    "to navigate to the Desktop folder.\n",
    "\n",
    "In the last line of the example shown above, we wrote the command:\n",
    "\n",
    "```bash\n",
    "cd ..\n",
    "```\n",
    "\n",
    "This means \"move up one directory\" and we see that the prompt changes back to showing `mnt/c/Users/G` as it did before. We essentially navigated \"down\" one level to the Desktop directory and then up again to the User directory."
   ]
  },
  {
   "cell_type": "markdown",
   "metadata": {},
   "source": [
    "### Command line arguments\n",
    "\n",
    "The last thing to become familiar with in this section is **arguments** and **wildcard arguments**.\n",
    "\n",
    "When we typed `cd Desktop` the `cd` is the **command** (what we want to do) and `Desktop` is an **argument** (some information that we give the command). You can pass arguments to the `ls` command too if you only want to list certain files and not all of them (e.g. `ls Desktop` will list the files in the Desktop directory instead of your home directory).\n",
    "\n",
    "If you want to list directories that match a certain pattern, you can use wildcards. The `*` character loosely translates as \"any characters\". Try running the following commands:\n",
    "\n",
    "```bash\n",
    "ls D*\n",
    "\n",
    "ls D*s\n",
    "\n",
    "ls Desktop/*.png\n",
    "```\n",
    "\n",
    "![wildcards](data/images/05-ls-wildcards.png)\n",
    "\n",
    "The first will list any directories that start with \"D\". In the example above, this is Desktop, Downloads, and Documents. The second will list any directory that starts with a \"D\", has any number of other characters, and then ends with an \"s\". So in this case, Downloads and Documents. The final command will list all files in Desktop that end with `.png`."
   ]
  },
  {
   "cell_type": "markdown",
   "metadata": {},
   "source": [
    "### Creating files and folders using the command line interface\n",
    "\n",
    "To create a folder, you use the **`mkdir`** command followed by whatever you want to name your new folder; e.g. `mkdir myfolder` will create a new folder named \"myfolder\".\n",
    "\n",
    "_Windows users:_ Please note that running `mkdir` has the same effect as right clicking in Windows Explorer and clicking \"New Folder\". \n",
    "\n",
    "You might have already noticed that the commands we use are **space-delimited**. This means that spaces are used to separate commands and arguments, and things can get confusing if our folder or file names have spaces in them too. In general, try to keep all folder and filenames as *single words* and use *all lowercase* (as file systems may or may not be case-sensitive).\n",
    "\n",
    "To create an (empty) file, you can use the **`touch`** command; e.g. `touch myfile.txt` will create a new blank file called `myfile.txt`."
   ]
  },
  {
   "cell_type": "markdown",
   "metadata": {},
   "source": [
    "### Exercise 1:\n",
    "\n",
    "Create a directory called `firstcmdproject`, `cd` into it, and create a blank file called `testfile.txt`. List all the files in your new directory to check that the file is there. Give all of the commands you used to do this."
   ]
  },
  {
   "cell_type": "markdown",
   "metadata": {},
   "source": [
    "**Answer.**\n",
    "\n",
    "---"
   ]
  },
  {
   "cell_type": "markdown",
   "metadata": {},
   "source": [
    "### Removing files and folders using the command line interface\n",
    "\n",
    "**NOTE: Be careful with the following section. Removing files or folders from the command line bypasses your \"Recycle Bin\" and does not necessarily trigger a warning, so accidentally removing the wrong files can be DISASTROUS.**\n",
    "\n",
    "To remove a file, use the **`rm`** command followed by the file name. For example, `rm myfile.txt` will remove a file called `myfile.txt`. You can also use the asterisk to bulk remove; e.g. `rm *` will remove all files in the directory, or `rm *.png` will remove all files with a `.png` extension. \n",
    "\n",
    "To remove a directory, you have to pass a **flag** to the `rm` command. Flags alter the default behavior of commands and nearly every command you use will have dozens of flags that you can set. Here, we use the recursive flag `-r`, which means that you want to delete that directory and anything inside it (and if it has subdirectories, everything inside those and so on)."
   ]
  },
  {
   "cell_type": "markdown",
   "metadata": {},
   "source": [
    "### Exercise 2:\n",
    "\n",
    "Now, try it yourself - first remove the file, then change out of the directory to one level higher, and then remove the entire original directory you were initially inside. Give all of the commands you used to do this."
   ]
  },
  {
   "cell_type": "markdown",
   "metadata": {},
   "source": [
    "**Answer.**\n",
    "\n",
    "------"
   ]
  },
  {
   "cell_type": "markdown",
   "metadata": {},
   "source": [
    "## Renaming and moving files and directories\n",
    "\n",
    "If you're used to using a graphic file system explorer like Windows Explorer or Finder, it might seem strange that when using a CLI, `move` and `rename` are in fact the same command, **`mv`**.\n",
    "\n",
    "`mv` takes 2 arguments: (1) the name of the file or folder we want to move; and (2) it's new name (if renaming) or destination (if moving). For example, `mv existingfile.txt newname.txt` renames a file called `existingfile.txt` to `newname.txt`. This command can be confusing as it changes its behavior based on what files and folders exist. If you're in your home directory, `mv myfile.txt Desktop` will move the file `myfile.txt` to your Desktop as that's an existing folder in the current directory (assuming that file exists) while `mv myfile.txt Desktop234` will rename your file to Desktop234 as that folder does not exist.\n",
    "\n",
    "Make the `firstcmdproject` directory again with `mkdir firstcmdproject`."
   ]
  },
  {
   "cell_type": "markdown",
   "metadata": {},
   "source": [
    "### Exercise 3:\n",
    "\n",
    "Create `testfile.txt` in your home directory, move it to the `firstcmdproject` folder, and rename `firstcmdproject` to `firstcommandlineproject`. Change into the directory using its new name and list all of the files inside it. Show all the commands you used."
   ]
  },
  {
   "cell_type": "markdown",
   "metadata": {},
   "source": [
    "**Answer.**\n",
    "\n",
    "-----"
   ]
  },
  {
   "cell_type": "markdown",
   "metadata": {},
   "source": [
    "## Viewing and editing text files\n",
    "\n",
    "Now that we've learned how to navigate the file system and create and remove files, we can look at how to see the content of those files. You might be used to downloading files from the Internet through a web browser such as Google Chrome, but you can also download files directly through the command line. We'll use a simple text file containing the names and locations of cities in the USA, which is available at https://raw.githubusercontent.com/ritza-co/datasets/master/us-cities.txt. Download this file by running the following command: \n",
    "\n",
    "```bash\n",
    "curl https://raw.githubusercontent.com/ritza-co/datasets/master/us-cities.txt > us-cities.txt\n",
    "\n",
    "# or\n",
    "\n",
    "wget https://raw.githubusercontent.com/ritza-co/datasets/master/us-cities.txt\n",
    "\n",
    "```\n",
    "\n",
    "This file contains three columns. Each row is a city in the USA - the first column defines which state the city is in, while the next two define the latitude and longitude coordinates of that city.\n",
    "\n",
    "The most useful commands to view text files are **`cat`**, **`head`**, and **`tail`**:\n",
    "\n",
    "* `cat` dumps the contents of the entire input file to your screen (it may take some time to get through all the lines)\n",
    "* `head` shows the first 10 lines of the input file, but this can actually be configured to a different number of lines using the `-n` flag (e.g. `head -n 30 us-cities.txt` would show the first 30 lines instead)\n",
    "* `tail` shows the last 10 lines of the input file (again, the note about the `-n` flag applies)\n",
    "\n",
    "![head, tail](data/images/10-head-tail.png)"
   ]
  },
  {
   "cell_type": "markdown",
   "metadata": {},
   "source": [
    "Viewing files is useful, but we also sometimes need to edit files. It can be strange trying to edit text without relying on your mouse to select text and move the cursor around, but once you get used to it this can also be faster than GUI text editors.\n",
    "\n",
    "Create a new file and immediately edit it using **nano** by typing `nano testfile.txt`. Your command line will transform to a text editor where you can type text and move the cursor around using the arrow keys.\n",
    "\n",
    "Type some lines of text as shown below, and press `Ctrl + x` to save and quit. When prompted, enter \"Y\" to save your changes.\n",
    "\n",
    "![Create file in nano](data/images/11-nano-create-file.png)\n",
    "\n",
    "If you run `nano us-cities.txt`, it will open the file we downloaded and allow you to edit the data therein instead of creating a new file as in the example above."
   ]
  },
  {
   "cell_type": "markdown",
   "metadata": {},
   "source": [
    "## Generating an SSH key\n",
    "\n",
    "At some point, you'll also use the command line to connect to other computers and run commands on those via **SSH**. To do this, you'll need to generate an **SSH key**. An SSH key is a more secure alternative to a password. It consists of two parts: a private key (which you should keep super secret) and a public key (which you can share with anyone in the world). \n",
    "\n",
    "You'll add your public key to the SSH server, and then use your private key to prove that you are actually you and therefore should be granted access. You can generate a key pair by running the command `ssh-keygen` and following the prompts. An example of this is shown below. In the final step, you output your public key to the console so that you can easily copy/paste it as needed:\n",
    "\n",
    "![](data/images/19-ssh-key-gen.png)"
   ]
  },
  {
   "cell_type": "markdown",
   "metadata": {},
   "source": [
    "## Conclusion & Takeaways\n",
    "\n",
    "In this case, you saw how to set up a full Linux system on your Windows machine and run some of the most used commands. Specifically, you learned that:\n",
    "\n",
    "* The command line has a steeper learning curve than the GUI, but once you're familiar with it it can be faster and more powerful than GUIs\n",
    "* There are lots of Linux commands and they can be combined in infinite ways\n",
    "* Furthermore, Linux commands are versatile - if you need to run commands on remote servers you won't always have a mouse or desktop environment to interact with the computer and must rely on text commands\n",
    "\n",
    "Here, we focused primarily on the basic commands to get familiar with how the command line works. We have only scratched the surface of what is possible in the command line. You will see some of these other possibilities in future cases."
   ]
  },
  {
   "cell_type": "code",
   "execution_count": null,
   "metadata": {},
   "outputs": [],
   "source": []
  }
 ],
 "metadata": {
  "kernelspec": {
   "display_name": "Python 3",
   "language": "python",
   "name": "python3"
  },
  "language_info": {
   "codemirror_mode": {
    "name": "ipython",
    "version": 3
   },
   "file_extension": ".py",
   "mimetype": "text/x-python",
   "name": "python",
   "nbconvert_exporter": "python",
   "pygments_lexer": "ipython3",
   "version": "3.6.7"
  }
 },
 "nbformat": 4,
 "nbformat_minor": 2
}
