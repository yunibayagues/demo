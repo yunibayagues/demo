{
 "cells": [
  {
   "cell_type": "markdown",
   "metadata": {},
   "source": [
    "# Simpson’s Paradox"
   ]
  },
  {
   "cell_type": "markdown",
   "metadata": {},
   "source": [
    "## Gender bias in graduate admissions \n",
    "\n",
    "Many times in the media, you will see examples of statistical analysis done wrongly. The purpose of this exercise is to illustrate a common error in statistical analysis and how this can be dangerous.\n",
    "\n",
    "Here, we will revisit an example of incorrect statistical analysis that was uncovered in <i>Science</i>, one of the most prestigious scientific publications in the world.  The problem concerns gender bias in graduate admissions\n",
    "at the University of California at Berkeley.  The following table shows admission by gender:\n",
    "\n",
    "|Sex | Accepted | Rejected|\n",
    "|----|----------|---------|\n",
    "|Female| 557    | 1278    |\n",
    "|Male  | 1198   | 1498    |"
   ]
  },
  {
   "cell_type": "markdown",
   "metadata": {},
   "source": [
    "This simple table of summary statistics appears to be troubling for UC Berkeley. It can be seen that about 30% of female applicants were admitted whereas nearly 45% of male applicants were admitted.  "
   ]
  },
  {
   "cell_type": "markdown",
   "metadata": {},
   "source": [
    "### Exercise 1:\n",
    "\n",
    "If you were presented with this table, what would your next steps be? Without looking ahead, brainstorm next steps and potential explanations for the imbalance across sexes."
   ]
  },
  {
   "cell_type": "markdown",
   "metadata": {},
   "source": [
    "**Answer.** \n",
    "\n",
    "--------"
   ]
  },
  {
   "cell_type": "markdown",
   "metadata": {},
   "source": [
    "The original investigators (the authors of the <i>Science</i> paper referenced above) sought to gain further insights into admission by gender through the following visualization:\n",
    "\n",
    "<img src=\"data/percentByAccRate.png\" width=\"1000\">"
   ]
  },
  {
   "cell_type": "markdown",
   "metadata": {},
   "source": [
    "### Exercise 2:\n",
    "\n",
    "Analyze the graphic. What do you see? Any new insights or conclusions? Discuss with your team.\n",
    "\n",
    "**Hint:** Have you considered the differences among departments in the proportions of men and women applying to them?"
   ]
  },
  {
   "cell_type": "markdown",
   "metadata": {},
   "source": [
    "**Answer.**\n",
    "\n",
    "-----------"
   ]
  },
  {
   "cell_type": "markdown",
   "metadata": {},
   "source": [
    "Motivated by Exercise 2, let's look at the following \"mosaic\" plot. This plot gives the fraction of men and women admitted/rejected across various departments with in the university:\n",
    "\n",
    "<img src=\"data/mosaicPlot.png\" width=\"1000\">     "
   ]
  },
  {
   "cell_type": "markdown",
   "metadata": {},
   "source": [
    "### Exercise 3:\n",
    "\n",
    "Does the mosaic plot above give additional information compared to the previous table and plot?"
   ]
  },
  {
   "cell_type": "markdown",
   "metadata": {},
   "source": [
    "**Answer.**\n",
    "\n",
    "----------"
   ]
  },
  {
   "cell_type": "markdown",
   "metadata": {},
   "source": [
    "### Exercise 4:\n",
    "\n",
    "Summing it all up, how exactly would you explain, in your own words, what the higher rejection rate of women compared to men is caused by, at the university population level? What general conclusions can we draw from this case study?"
   ]
  },
  {
   "cell_type": "markdown",
   "metadata": {},
   "source": [
    "**Answer.**\n",
    "\n",
    "--------"
   ]
  },
  {
   "cell_type": "code",
   "execution_count": null,
   "metadata": {},
   "outputs": [],
   "source": []
  }
 ],
 "metadata": {
  "kernelspec": {
   "display_name": "Python 3",
   "language": "python",
   "name": "python3"
  },
  "language_info": {
   "codemirror_mode": {
    "name": "ipython",
    "version": 3
   },
   "file_extension": ".py",
   "mimetype": "text/x-python",
   "name": "python",
   "nbconvert_exporter": "python",
   "pygments_lexer": "ipython3",
   "version": "3.6.7"
  }
 },
 "nbformat": 4,
 "nbformat_minor": 2
}
