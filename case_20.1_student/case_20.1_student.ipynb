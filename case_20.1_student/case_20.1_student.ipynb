{
 "cells": [
  {
   "cell_type": "markdown",
   "metadata": {},
   "source": [
    "# Data Science, Machine Learning, and Artificial Intelligence at a Glance"
   ]
  },
  {
   "cell_type": "markdown",
   "metadata": {},
   "source": [
    "## Goals"
   ]
  },
  {
   "cell_type": "markdown",
   "metadata": {},
   "source": [
    "By the end of this case you should be able to point out the differences between Data Science, Machine Learning and Artificial Intelligence. You should also be able to identify examples of each in the real world."
   ]
  },
  {
   "cell_type": "markdown",
   "metadata": {},
   "source": [
    "## Introduction"
   ]
  },
  {
   "cell_type": "markdown",
   "metadata": {},
   "source": [
    "You may have heard of terms like Data Science, Machine Learning, and Artificial Intelligence, but what do they actually mean? And why should you care about one or the other?\n",
    "Before we dive in further, there are some concepts we need to define first!\n"
   ]
  },
  {
   "cell_type": "markdown",
   "metadata": {},
   "source": [
    "## Important Concepts:\n",
    "\n",
    "**What is \"data\"?**"
   ]
  },
  {
   "cell_type": "markdown",
   "metadata": {},
   "source": [
    "One traditional definition is thar data is basically, information. For us, in this case, we’ll define data as \"something whose value you care about”. You won't find that in any formal treatment of the subject, but for now, it is good enough. Your name, age, and telephone number are data about you. Your bank savings, your address, and your parents' names are data that relate to you. We have data about everything, everywhere."
   ]
  },
  {
   "cell_type": "markdown",
   "metadata": {},
   "source": [
    "**What is an algorithm?**"
   ]
  },
  {
   "cell_type": "markdown",
   "metadata": {},
   "source": [
    "Think of an algorithm as a series of steps in order to accomplish a task. As an example, think of your grandmother’s favorite recipe! Or think of you when you want to prepare a PBJ sandwich! You need to follow certain steps to get your sandwich (or recipe) right. \n",
    "Algorithms are a very essential part of Data Science, ML and AI. We will see their role ahead.\n"
   ]
  },
  {
   "cell_type": "markdown",
   "metadata": {},
   "source": [
    "**What’s the difference between accuracy and precision?**"
   ]
  },
  {
   "cell_type": "markdown",
   "metadata": {},
   "source": [
    "The accuracy of a measurement system is “the degree of closeness of measurements of a quantity to that quantity's true value” and the precision of a measurement system is related to reproducibility and repeatability, that means, is “the degree to which repeated measurements under unchanged conditions show the same results”.\n",
    "\n",
    "If this is not very clear, let’s see an image!"
   ]
  },
  {
   "cell_type": "markdown",
   "metadata": {},
   "source": [
    "![Precision vs Accuracy](data/images/precision.jpg)"
   ]
  },
  {
   "cell_type": "markdown",
   "metadata": {},
   "source": [
    "**check the original image here: https://flyingdonv.com/wp-content/uploads/2020/05/62b782_b27852542d9547118cb2b62316bd57d6.png**"
   ]
  },
  {
   "cell_type": "markdown",
   "metadata": {},
   "source": [
    "# This concept is extremely important since you’ll be using it a lot.\n"
   ]
  },
  {
   "cell_type": "markdown",
   "metadata": {},
   "source": [
    "## What is data science then?"
   ]
  },
  {
   "cell_type": "markdown",
   "metadata": {},
   "source": [
    "Now that we know what data is, we can now ask: \"What is data science?\" Science, in the language of the [scientific method](https://www.sciencebuddies.org/science-fair-projects/science-fair/steps-of-the-scientific-method), is:\n",
    "\n",
    "1. Formulating hypotheses, or guesses about how the world works, based on observations of the world around us\n",
    "2. Validating or invalidating those hypotheses by conducting experiments"
   ]
  },
  {
   "cell_type": "markdown",
   "metadata": {},
   "source": [
    "The scientific method, as applied to data, can be summarized as: **\"Formulating hypotheses based on the world around us, then analyzing relevant data to validate or invalidate our hypotheses.\"** with this in mind, we can move to the traditional definition of Data Science tells us that:\n",
    "\n",
    "“Data science is an inter-disciplinary field that uses scientific methods, processes, algorithms and systems to extract knowledge and insights from many structural and unstructured data. Data science is related to data mining, machine learning and big data.”\n",
    "\n",
    "If you think this sounds a lot like artificial intelligence you are not totally wrong. In order to get this insight, we use machine learning to make predictions and discover those patters. But Machine Learning is not quite artificial intelligence, we'll see the difference after doing some excercises:"
   ]
  },
  {
   "cell_type": "markdown",
   "metadata": {},
   "source": [
    "### Exercise 1:\n",
    "\n",
    "Based on your knowledge about Data Science so far, which of the following can be described as data science process? Select all that apply.\n",
    "\n",
    "(a)You have a meeting with your boss and you present him some data using Excel charts without any insight about the data.\n",
    "\n",
    "(b) Observing that Uber pricing seems to be correlated to a small set of factors, obtaining open-source data on Uber pricing rates, then building a pricing model based on those factors and verifying that they explain most of the variation in rates.\n",
    "\n",
    "(c) Converting images of crop circles in to structured pixels and storing them into a database for later use.\n",
    "\n",
    "(d) Building an algorithm that allows a computer to recognize images of cats and dogs.\n",
    "\n",
    "(e) Using people's profiles and data to build a model capable of predicting your compatibility percentage to find a person's perfect match and soulmate.\n",
    "\n",
    "**Answer.**\n",
    "\n",
    "--------"
   ]
  },
  {
   "cell_type": "markdown",
   "metadata": {},
   "source": [
    "Now you now what Data Science is, let's conclude what data science is **NOT**:\n",
    "\n",
    "1. It is **NOT** computers recognizing images of cats and dogs\n",
    "2. It is **NOT** IBM Watson screening human tissues for disease\n",
    "3. It is **NOT** AlphaGo beating the world's top Go player\n",
    "\n",
    "In fact, the VAST majority of data use cases are **NOT** like the three examples above, but rather much more similar to traditional sciences. Most examples of data science are what we described in choices (b) and (e) in Exercise 1.\n",
    "\n",
    "A common corporate data science example is a firm collecting user data, analyzing the data to categorize their customers, creating marketing campaigns to better target its potential customers, testing the effects of the solutions, and updating their marketing materials accordingly."
   ]
  },
  {
   "cell_type": "markdown",
   "metadata": {},
   "source": [
    "But if you think many of these examples sound a lot like artificial intelligence you are not totally wrong. In order to get this insight, we use machine learning to make predictions and discover those patters. \n",
    "\n",
    "But Machine Learning is not quite artificial intelligence, let’s see the difference:"
   ]
  },
  {
   "cell_type": "markdown",
   "metadata": {},
   "source": [
    "## Machine Learning Fundamentals"
   ]
  },
  {
   "cell_type": "markdown",
   "metadata": {},
   "source": [
    "Machine learning was defined in 90’s by Arthur Samuel  who described it as the,” field of study that gives the ability to the computer for self-learn without being explicitly programmed”, that means imbuing knowledge to machines without hard-coding it and that can predict and output based on an input data.\n",
    "\n",
    "Machine Learning (ML) is used in situations where we want the machine to learn from the data, we give it, and then apply that knowledge on new pieces of data. Where can you find Machine Learning implementations you may ask? Well, Machine Learning is used anywhere from automating mundane tasks to offering intelligent insights, probably you have already used a device that implements it, like an intelligent home assistant like Google Home or Alexa.\n",
    "\n",
    "There are many uses for ML, let’s see a couple:\n",
    "\n",
    "•\tPrediction: to predict, for example, demand, prices, etc. \n",
    "\n",
    "•\tImage recognition — face detection, among others.\n",
    "\n",
    "•\tMedical diagnoses — ML is trained to recognize cancerous tissues or anomalies in medical images. \n",
    "\n",
    "•\tFinancial industry and trading — companies use ML in fraud investigations and credit checks.\n",
    "\n",
    "•\tRidesharing Apps Like Uber and Lyft and the way they determine the price of your ride. \n",
    "\n",
    "\n",
    "\n",
    "You should know also that Machine Learning is mainly divided into three categories:\n",
    "-\tSupervised\n",
    "-\tUnsupervised\n",
    "-\tReinforcement\n",
    "\n",
    "But don’t worry about this for now, because you will learn all about this later in the course.\n"
   ]
  },
  {
   "cell_type": "markdown",
   "metadata": {},
   "source": [
    "### Let's test your knowledge!"
   ]
  },
  {
   "cell_type": "markdown",
   "metadata": {},
   "source": [
    "### Exercise 2: \n",
    "\n",
    "Based on the above definition, which of the following tasks would likely involve the use of \"machine learning\"? Select all that apply.\n",
    "\n",
    "(a) Building the model backing Apple iPhones' facial recognition system.\n",
    "\n",
    "(b) Constructing the model backing Netflix's movie recommendation system based on your previous viewing activity.\n",
    "\n",
    "(c) Investigating factors which affect Airbnb pricing and developing a pricing tool based on this analysis.\n",
    "\n",
    "(d) Setting up an automated system to approve or reject mortgage loan applications.\n",
    "\n",
    "**Answer.**\n",
    "\n",
    "----------"
   ]
  },
  {
   "cell_type": "markdown",
   "metadata": {},
   "source": [
    "Machine learning can be, and often is, a part of proper data science. **Data science is fundamentally a process, while machine learning is a tool that can be immensely useful in conducting the data science process**."
   ]
  },
  {
   "cell_type": "markdown",
   "metadata": {},
   "source": [
    "## What is artificial intelligence?"
   ]
  },
  {
   "cell_type": "markdown",
   "metadata": {},
   "source": [
    "Artificial intelligence, or AI for short, has been around for a while, since the mid 1950’s. Nothing new then, right? So, what changed?\n",
    "\n",
    "Well, AI became super popular recently because of the advancements in processing capabilities, back in the 1900’s we didn’t have the necessary computing power to actually use AI as we have today.  \n",
    "\n",
    "But what is artificial intelligence? In few words, AI is the ability to enable computers to understand data, learn from the data, and make decisions based on patterns hidden in the data, or inferences that could otherwise be very difficult (not to say almost impossible) for humans to make manually. The whole idea behind AI is to mimic human intelligence, in other words:\n"
   ]
  },
  {
   "cell_type": "markdown",
   "metadata": {},
   "source": [
    "*“Artificial intelligence is a technology with which we can create intelligent systems that can simulate human intelligence”*\n",
    "\n"
   ]
  },
  {
   "cell_type": "markdown",
   "metadata": {},
   "source": [
    "Let’s see some examples:\n",
    "\n",
    "•\tSelf-Driving cars\n",
    "\n",
    "•\tDigital Assistants (Siri, Alexa, etc)\n",
    "\n",
    "•\tRobots\n",
    "\n"
   ]
  },
  {
   "cell_type": "markdown",
   "metadata": {},
   "source": [
    "We invite you to check the first **5** minutes of this video to get more insights:"
   ]
  },
  {
   "cell_type": "code",
   "execution_count": null,
   "metadata": {},
   "outputs": [],
   "source": [
    "from IPython.display import IFrame"
   ]
  },
  {
   "cell_type": "code",
   "execution_count": null,
   "metadata": {},
   "outputs": [],
   "source": [
    "# Youtube\n",
    "IFrame('https://www.youtube.com/embed/UwsrzCVZAb8', width=560, height=315)\n"
   ]
  },
  {
   "cell_type": "markdown",
   "metadata": {},
   "source": [
    "If you find this topic interesting you can check all the episodes!! You’ll learn a lot!"
   ]
  },
  {
   "cell_type": "markdown",
   "metadata": {},
   "source": [
    "## Key differences between ML and AI"
   ]
  },
  {
   "cell_type": "markdown",
   "metadata": {},
   "source": [
    "Although Machine Learning and Artificial Intelligence are two related technologies and sometimes people use them as a synonym for each other, but still both are the two different terms in various cases.\n",
    "“AI is a bigger concept to create intelligent machines that can simulate human thinking capability and behavior, whereas, machine learning is an application or subset of AI that allows machines to learn from data without being programmed explicitly”\n",
    "\n",
    "Take a look to the following differences.\n"
   ]
  },
  {
   "cell_type": "markdown",
   "metadata": {},
   "source": [
    "![Precision vs Accuracy](data/images/differences.png)"
   ]
  },
  {
   "cell_type": "markdown",
   "metadata": {},
   "source": [
    "### Discuss the difference between Machine Learning and AI with your classmates/team\n",
    "\n",
    "What would counts as \"artificial intelligence\"? What demonstrations of aptitude would, beyond a shadow of a doubt, convince you that something is as intelligent as us humans are?"
   ]
  },
  {
   "cell_type": "markdown",
   "metadata": {},
   "source": [
    "You may have found that it was quite hard to come up with answers to the second part of the previous question, and that most ideas you had either: \n",
    "\n",
    "1) seemed like they could well have a \"dumb\" mechanical solution as in the previous discussion of machine learning, despite seeming impressive at first; or \n",
    "2) actually made you question how unique human intelligence really is and whether virtually all of what we do could be reduced to such \"dumb\" mechanical methods.\n",
    "\n",
    "Let's expore some more about this topic"
   ]
  },
  {
   "cell_type": "markdown",
   "metadata": {},
   "source": [
    "### What can machines do and not do? What about us?"
   ]
  },
  {
   "cell_type": "markdown",
   "metadata": {},
   "source": [
    "So, is there any sensible test we could use to determine if something is as intelligent as a human? There have been many proposals over time. The most famous aptitude test developed was the [**Turing test**](https://www.geeksforgeeks.org/turing-test-artificial-intelligence/), named after the English mathematician and famous World War II cryptographer Alan Turing. In this exam, there is a human evaluator and two conversation partners: one machine and one human. The evaluator would conduct a conversation with each through a text-only channel. If the evaluator cannot reliably tell the machine from the human, the machine is said to have passed the test.\n",
    "\n",
    "Turing did not explicitly state that his test could be used as a measure of intelligence, but many who came after him thrust his test into the limelight. Of course, the implication is that if a computer can converse like a human, then it is effectively as intelligent as a human."
   ]
  },
  {
   "cell_type": "markdown",
   "metadata": {},
   "source": [
    "### Let's debate:\n",
    "\n",
    "Brainstorm with a partner, and then we will discuss aloud in class:\n",
    "\n",
    "1. What are some things that machines can already do better than we can? What specifically about them allows them to do these better?\n",
    "2. What are some things that we can do better than machines? Do you think this advantage will likely be sustained over time? Why?"
   ]
  },
  {
   "cell_type": "markdown",
   "metadata": {},
   "source": [
    "### Question:\n",
    "\n",
    "Now that we have properly defined data science, who here has used data science in their job? Give a specific example."
   ]
  },
  {
   "cell_type": "markdown",
   "metadata": {},
   "source": [
    "## Conclusions & Takeaways"
   ]
  },
  {
   "cell_type": "markdown",
   "metadata": {},
   "source": [
    "In this case, you learned what \"data science\", \"machine learning\" and \"artificial intelligence\" really are, in contrast to the misleading connotations that they are often given in public discussion. You also learned that \"artificial intelligence\" is a very ambiguous term – nobody really agrees on its exact definition and it is unclear if its current focus on imitating human intelligence is even the correct approach.</span>\n",
    "\n",
    "Throughout this program, we will focus primarily on data science and machine learning, and not so much artificial intelligence. Yet the philosophical questions surrounding artificial intelligence are fascinating, and we encourage you to continue pondering them as you become more involved in this new and exciting field. In the coming weeks, we will train you on the numerous techniques of data science so that you will be able to conduct professional data science processes in your own lives."
   ]
  },
  {
   "cell_type": "code",
   "execution_count": null,
   "metadata": {},
   "outputs": [],
   "source": []
  }
 ],
 "metadata": {
  "kernelspec": {
   "display_name": "Python 3",
   "language": "python",
   "name": "python3"
  },
  "language_info": {
   "codemirror_mode": {
    "name": "ipython",
    "version": 3
   },
   "file_extension": ".py",
   "mimetype": "text/x-python",
   "name": "python",
   "nbconvert_exporter": "python",
   "pygments_lexer": "ipython3",
   "version": "3.6.7"
  }
 },
 "nbformat": 4,
 "nbformat_minor": 2
}
