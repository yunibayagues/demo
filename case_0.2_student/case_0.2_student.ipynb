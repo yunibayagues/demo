{
 "cells": [
  {
   "cell_type": "markdown",
   "metadata": {},
   "source": [
    "# How do I use basic Python skills to help inform a travel agency?"
   ]
  },
  {
   "cell_type": "markdown",
   "metadata": {},
   "source": [
    "## Goals\n",
    "\n",
    "By the end of this case, you will be able to understand the basics of Python from a programming/software engineering perspective. This is crucial for you to begin to perform actual data work using Python.\n",
    "\n",
    "You should further have a working knowledge of various fundamental building blocks of Python (listed at the end of the case). This means being able to write simple code to perform analytical tasks such as creating metrics for making a business decision."
   ]
  },
  {
   "cell_type": "markdown",
   "metadata": {},
   "source": [
    "## Introduction"
   ]
  },
  {
   "cell_type": "markdown",
   "metadata": {},
   "source": [
    "<img src=\"data/images/san_agustin.jpg\" alt=\"drawing\" width=\"1000\" height=\"250\"/>"
   ]
  },
  {
   "cell_type": "markdown",
   "metadata": {},
   "source": [
    "**Business Context.** You are a data science consultant for a new travel agency called *World Travelers*. The agency has hundreds of thousands of users. Because they are a relatively new company, they have not set up their data pipeline yet, so they're collecting the data about the travelers manually. \n",
    "\n",
    "Since the dataset collected can get quite large and increases by the day, they need urgent advice to organize their data and get it into a better format so they can choose the right subscription plan for the analytics platform that they are looking to purchase."
   ]
  },
  {
   "cell_type": "markdown",
   "metadata": {},
   "source": [
    "**Business Problem.** Your task is to **investigate the raw data the client has provided and help them answer some questions about their travelers based on it**."
   ]
  },
  {
   "cell_type": "markdown",
   "metadata": {},
   "source": [
    "**Analytical Context.** The data provided by the client is in the CSV (comma-separated values) file *travelers_information.csv*. This file contains some trip data, including the countries the travelers have visited through the agency, the number of travelers who went to those countries last year (2019), and the travelers' age groups.\n",
    "\n",
    "The CSV file has the following columns: \n",
    "\n",
    "- **Countries**: Country names\n",
    "- **Number of Travelers**: Number of travelers for that country\n",
    "- **Age (0,18]**: Travelers from age 0 to age 18\n",
    "- **Age (18,35]**: Travelers from age 19 to age 35\n",
    "- **Age (35,50]**: Travelers from age 35 to age 50\n",
    "- **Age (50,100]**: Travelers from age 50 to age 100\n",
    "- **Pets**: Number of pets that traveled for that country\n",
    "\n",
    "<img src=\"data/images/agency_data.png\" alt=\"drawing\" width=\"600\" height=\"180\"/>\n",
    "\n",
    "Of course, in order to do all of this, you will need to know the basics of Python programming. Let's jump into that first."
   ]
  },
  {
   "cell_type": "markdown",
   "metadata": {},
   "source": [
    "## What is programming?\n",
    "\n",
    "**Programming** is just act of writing clear, unambiguous instructions that a computer can understand and execute to achieve a desired end result. You can think of it as a cooking recipe - instructions are given in sequence, and it is assumed that if you follow them faithfully, you will achieve the intended result. This is why we first need to know all the ingredients, what to do with them, and how are we supposed to use them before writing our programs.\n",
    "\n",
    "More specifically, programming requires three things:\n",
    "\n",
    "1. A well-defined plan of attack with clear steps\n",
    "2. Brief comments about the steps, so that later when you re-read your code, it will be easy to know what you were intending to do\n",
    "3. Clear, working code for each step"
   ]
  },
  {
   "cell_type": "markdown",
   "metadata": {},
   "source": [
    "### Variables in Python\n",
    "\n",
    "In Python, a **variable** is a place where we store certain information. Depending on the type of information that we choose to store (e.g. text, numbers, true/false (also known as *Booleans*), etc.), the variable will be of one type or another. \n",
    "\n",
    "Each variable has to have a name with which to refer to it. Python takes into account if we write the variable in upper or lower case (which is known as being *case-sensitive*). Thus, a variable called `a_1` is not the same as one called `A_1`.\n",
    "\n",
    "We have to remember that the name of the variable can't match the names of restricted Python **keywords** (if, for, while, do, etc.). You will learn more about these keywords later. We also cannot use variable names that include things like accents or certain special characters.\n",
    "\n",
    "Defining variables in Python is done as follows:\n",
    "\n",
    "* **Assigning a value**: `variable = value`\n",
    "\n",
    "* **Assigning multiple values**: `variable_1, variable_2 = value1, value2`\n",
    "\n",
    "You can then print the value of a variable to the screen using the function `print()`. Here is an example:"
   ]
  },
  {
   "cell_type": "code",
   "execution_count": null,
   "metadata": {},
   "outputs": [],
   "source": [
    "#This is an example\n",
    "variable_1 = 10\n",
    "print(variable_1)"
   ]
  },
  {
   "cell_type": "markdown",
   "metadata": {},
   "source": [
    "### Exercise 1:\n",
    "\n",
    "Create the variables for the number of tourists in each country last year. Remember that the name of a variable can't have spaces in the middle - use the underscore key to bridge natural gaps where spaces would normally go."
   ]
  },
  {
   "cell_type": "markdown",
   "metadata": {},
   "source": [
    "**Answer.**\n",
    "\n",
    "---------"
   ]
  },
  {
   "cell_type": "markdown",
   "metadata": {},
   "source": [
    "### Exercise 2:\n",
    "How many people went to Greece? "
   ]
  },
  {
   "cell_type": "markdown",
   "metadata": {},
   "source": [
    "**Answer.**\n",
    "\n",
    "---------"
   ]
  },
  {
   "cell_type": "markdown",
   "metadata": {},
   "source": [
    "Now, it might make sense to figure out the total number of travelers that went to a select set of countries. This is the purpose of **arithmetic operators**. You've probably heard of most of these before in your grade school math classes. They include:\n",
    "\n",
    "* `+`: Addition \n",
    "\n",
    "* `-`: Subtraction\n",
    "\n",
    "* `*`: Multiplication \n",
    "\n",
    "* `/`: Division (with decimals)\n",
    "\n",
    "* `%`: Remainder after division, also known as \"modulus\"\n",
    "\n",
    "* `**`: Power/Exponentiation\n",
    "\n",
    "* `//`: Division (without decimals)"
   ]
  },
  {
   "cell_type": "markdown",
   "metadata": {},
   "source": [
    "### Exercise 3:\n",
    "\n",
    "How many travelers went to Congo, Australia, and Indonesia? What is the total number of travelers from these three countries?"
   ]
  },
  {
   "cell_type": "markdown",
   "metadata": {},
   "source": [
    "**Answer.**\n",
    "\n",
    "---------"
   ]
  },
  {
   "cell_type": "markdown",
   "metadata": {},
   "source": [
    "### Exercise 4:\n",
    "\n",
    "How many people went to the continents of Oceania and South America? \n",
    "\n",
    "**Bonus**: How many travelers went to the rest of the continents?"
   ]
  },
  {
   "cell_type": "markdown",
   "metadata": {},
   "source": [
    "**Answer.**\n",
    "\n",
    "---------"
   ]
  },
  {
   "cell_type": "markdown",
   "metadata": {},
   "source": [
    "### Numerical variables\n",
    "\n",
    "There are two main types of variables which constitute numbers - the integers (`int`) and the real numbers (`float`):"
   ]
  },
  {
   "cell_type": "code",
   "execution_count": null,
   "metadata": {},
   "outputs": [],
   "source": [
    "# Let's add two new countries and the number of travelers who went to those specific countries:\n",
    "peru = int (879)\n",
    "croatia = float (125.5)\n",
    "\n",
    "print(\"Peru:\", peru)\n",
    "print(\"Croatia\", croatia)"
   ]
  },
  {
   "cell_type": "markdown",
   "metadata": {},
   "source": [
    "Now why would Croatia have 125.5 travelers? Is that possible? Well, according to the agency's data, they count a pet as 0.5 travelers. We can decide for ourselves if that's a sensical way to count pets, but at least it's consistent with the agency's documentation."
   ]
  },
  {
   "cell_type": "markdown",
   "metadata": {},
   "source": [
    "If we want to know the data type of a variable, we can use the `type()` method:"
   ]
  },
  {
   "cell_type": "code",
   "execution_count": null,
   "metadata": {},
   "outputs": [],
   "source": [
    "type(peru)"
   ]
  },
  {
   "cell_type": "code",
   "execution_count": null,
   "metadata": {},
   "outputs": [],
   "source": [
    "type(croatia)"
   ]
  },
  {
   "cell_type": "markdown",
   "metadata": {},
   "source": [
    "### Exercise 5:\n",
    "\n",
    "How many people went to Peru and Croatia? "
   ]
  },
  {
   "cell_type": "markdown",
   "metadata": {},
   "source": [
    "**Answer.**\n",
    "\n",
    "---------"
   ]
  },
  {
   "cell_type": "markdown",
   "metadata": {},
   "source": [
    "**Bonus:** If you ever need to use complex numbers in Python, good news, Python recognizes them!"
   ]
  },
  {
   "cell_type": "code",
   "execution_count": null,
   "metadata": {},
   "outputs": [],
   "source": [
    "# Let's say the number of travelers that have ever been in Saturn is a complex number, because we \n",
    "# don't have any real proof by now. \n",
    "\n",
    "saturn = 22j\n",
    "\n",
    "print(saturn)\n",
    "type(saturn)"
   ]
  },
  {
   "cell_type": "markdown",
   "metadata": {},
   "source": [
    "### Text variables\n",
    "\n",
    "Variables that store text are called strings (`str`). They must be enclosed in single quotes (') or double quotes (\"), or if the text occupies several lines, enclosed in triple double quotes (\"\"\"):"
   ]
  },
  {
   "cell_type": "code",
   "execution_count": null,
   "metadata": {},
   "outputs": [],
   "source": [
    "destiny =\"Countries\"\n",
    "clients ='Travelers'\n",
    "\n",
    "print(destiny)\n",
    "print(clients)"
   ]
  },
  {
   "cell_type": "markdown",
   "metadata": {},
   "source": [
    "Let's prepare a welcome to the new travelers:"
   ]
  },
  {
   "cell_type": "code",
   "execution_count": null,
   "metadata": {},
   "outputs": [],
   "source": [
    "print(\"Welcome\", clients, \"we hope you have lots of fun in all the\", destiny, \"you want to visit!\")"
   ]
  },
  {
   "cell_type": "code",
   "execution_count": null,
   "metadata": {},
   "outputs": [],
   "source": [
    "type(clients)"
   ]
  },
  {
   "cell_type": "code",
   "execution_count": null,
   "metadata": {},
   "outputs": [],
   "source": [
    "#We can create a new variable that includes a multiline text.\n",
    "\n",
    "welcome_back = \"\"\"Welcome\n",
    "back\n",
    "dear\n",
    "travelers\"\"\"\n",
    "print(welcome_back)"
   ]
  },
  {
   "cell_type": "markdown",
   "metadata": {},
   "source": [
    "### Exercise 6:\n",
    "\n",
    "The city of Chicago has given the company \"World Travelers\" a specific ID. Create this variable `agency_id`, and set it equal to the string \"112235\". You can make it a string since you won't need to perform any arithmetic operations with it."
   ]
  },
  {
   "cell_type": "markdown",
   "metadata": {},
   "source": [
    "**Answer.**\n",
    "\n",
    "---------"
   ]
  },
  {
   "cell_type": "code",
   "execution_count": null,
   "metadata": {},
   "outputs": [],
   "source": [
    "agency = \"World Travelers\"\n",
    "print(agency + agency_id)"
   ]
  },
  {
   "cell_type": "markdown",
   "metadata": {},
   "source": [
    "We get a **concatenation**! So yes, this is how we can join two strings, we just have to use the `+` operator:"
   ]
  },
  {
   "cell_type": "code",
   "execution_count": null,
   "metadata": {},
   "outputs": [],
   "source": [
    "print(\"Welcome to the best travel agency! This is \" + agency )"
   ]
  },
  {
   "cell_type": "markdown",
   "metadata": {},
   "source": [
    "### Boolean variables\n",
    "\n",
    "The **boolean** type is a binary data type; that is, it can only take on one of two possible values: 0 (zero) or 1 (one). \n",
    "\n",
    "The two possible values of this data type lend themselves to different interpretations: Yes / No, On / Off, True / False, among others. In Python and other programming languages, the constants True (1, true) and False (0, false) have been chosen."
   ]
  },
  {
   "cell_type": "code",
   "execution_count": null,
   "metadata": {},
   "outputs": [],
   "source": [
    "# We can create a boolean variable with the value we want, True or False\n",
    "\n",
    "boolean_variable_1 = True\n",
    "boolean_variable_2 = False\n",
    "\n",
    "print(boolean_variable_1)\n",
    "print(type(boolean_variable_1))\n",
    "print(boolean_variable_2)\n",
    "print(type(boolean_variable_2))"
   ]
  },
  {
   "cell_type": "markdown",
   "metadata": {},
   "source": [
    "### Empty values\n",
    "\n",
    "We can also define variables which represent the concept of nothing, by assigning them the value `None`:"
   ]
  },
  {
   "cell_type": "code",
   "execution_count": null,
   "metadata": {},
   "outputs": [],
   "source": [
    "null_variable = None\n",
    "\n",
    "print(null_variable)\n",
    "type(null_variable)"
   ]
  },
  {
   "cell_type": "markdown",
   "metadata": {},
   "source": [
    "The agency is required to report some countries where they operate but had no travelers. These include the UK, Poland and Norway. So we assign these countries the value `None`:"
   ]
  },
  {
   "cell_type": "code",
   "execution_count": null,
   "metadata": {},
   "outputs": [],
   "source": [
    "uk = None\n",
    "poland = None\n",
    "norway = None\n",
    "\n",
    "print (uk, poland, norway)"
   ]
  },
  {
   "cell_type": "markdown",
   "metadata": {},
   "source": [
    "## Operators in Python\n",
    "\n",
    "**Operators** are essentially actions that you can perform on Python variables or objects. The Python language supports the following types of operators:\n",
    "\n",
    "1. Arithmetic Operators<br>\n",
    "2. Comparison (Relational) Operators<br>\n",
    "3. Logical Operators<br>\n",
    "4. Assignment Operators<br>\n",
    "5. Bitwise Operators<br>\n",
    "6. Membership Operators<br>\n",
    "7. Identity Operators\n",
    "\n",
    "We'll discuss the first three of these here; the rest will be left to a future case."
   ]
  },
  {
   "cell_type": "markdown",
   "metadata": {},
   "source": [
    "### Arithmetic operators"
   ]
  },
  {
   "cell_type": "markdown",
   "metadata": {},
   "source": [
    "We covered these in an earlier section - now let's do some work with them!"
   ]
  },
  {
   "cell_type": "markdown",
   "metadata": {},
   "source": [
    "### Exercise 7:"
   ]
  },
  {
   "cell_type": "markdown",
   "metadata": {},
   "source": [
    "The agency wants to get the **percentage** of travelers for each country that qualify as kids (i.e. age from 0 to 18 years). They want to start by getting the percentages for the top five countries with the most travelers. We already know these countries are Egypt, United States, Spain, Indonesia, South Africa. Go ahead and compute these figures.\n",
    "\n",
    "**Hint:** Use the `round()` function, which allows you to round off your result to a specified number of decimal places, to allow you to display the numbers more easily."
   ]
  },
  {
   "cell_type": "markdown",
   "metadata": {},
   "source": [
    "<img src=\"data/images/top_5_countries.png\" alt=\"drawing\" width=\"700\" height=\"180\"/>"
   ]
  },
  {
   "cell_type": "markdown",
   "metadata": {},
   "source": [
    "**Answer.**\n",
    "\n",
    "---------"
   ]
  },
  {
   "cell_type": "markdown",
   "metadata": {},
   "source": [
    "### Comparison (Relational) operators\n",
    "\n",
    "**Comparison operators** are used to ascertain the relation between two quantities or objects. Again, most of these will be familiar to you from grade school math:"
   ]
  },
  {
   "cell_type": "markdown",
   "metadata": {},
   "source": [
    "| Symbol | Task Performed |\n",
    "|----|---|\n",
    "| == | True, if values are equal |\n",
    "| is | True, if identical, i.e. the **same** object  |\n",
    "| !=  | True, if not equal to |\n",
    "| < | less than |\n",
    "| > | greater than |\n",
    "| <=  | less than or equal to |\n",
    "| >=  | greater than or equal to |\n",
    "| in  | test pertenence to a collection (list, set, dictionary) |"
   ]
  },
  {
   "cell_type": "markdown",
   "metadata": {},
   "source": [
    "### Exercise 8:\n",
    "\n",
    "Let's compare the the percentages that we got from the previous exercise:\n",
    "\n",
    "1. Is the percentage of underage travelers in Egypt the same as in Spain? \n",
    "2. Is the percentage of underage travelers in the United States greater than the percentage of underage travelers in Indonesia? \n",
    "3. Is the percentage of underage travelers in South Africa less than the percentage of underage travelers in Spain? \n",
    "4. Find out if the percentage of under age travelers in South Africa is different from the percentage of underage travelers in Indonesia by using the `!=` operator."
   ]
  },
  {
   "cell_type": "markdown",
   "metadata": {},
   "source": [
    "**Answer.**\n",
    "\n",
    "---------"
   ]
  },
  {
   "cell_type": "markdown",
   "metadata": {},
   "source": [
    "### Logical operators\n",
    "\n",
    "**Logical operators** are used to combine **conditional statements** (i.e. statements which the code will determine in real-time are true or false). These condition statements often use the comparison operators described in the previous section.\n",
    "\n",
    "* **and**: Returns True if both statements are true, or False otherwise\n",
    "* **or**: Returns True if one of the statements is true, or False otherwise\n",
    "* **not**: Reverse the result, returns False if the result is true, or True if the result is false"
   ]
  },
  {
   "cell_type": "markdown",
   "metadata": {},
   "source": [
    "### Exercise 9:"
   ]
  },
  {
   "cell_type": "markdown",
   "metadata": {},
   "source": [
    "1. Determine if the percentage of underage travelers in South Africa is greater than 4% **and** if the percentage of under age travelers in Indonesia is less than 10%.\n",
    "\n",
    "2. Determine if the percentage of underage travelers in United States is greater than 15% **or** if the percentage of underage travelers in Egypt is greater than 40%."
   ]
  },
  {
   "cell_type": "markdown",
   "metadata": {},
   "source": [
    "**Answer.**\n",
    "\n",
    "---------"
   ]
  },
  {
   "cell_type": "markdown",
   "metadata": {},
   "source": [
    "## Some common errors\n",
    "\n",
    "1. If we try to use a variable that has not been previously defined or initialized, the interpreter will show us an error:\n",
    "```python\n",
    "print(abc)\n",
    "NameError: name 'abc' is not defined\n",
    "```\n",
    "\n",
    "2. If we try to perform mathematical operations between numeric and string variables, we will get an error as well:\n",
    "```python\n",
    "a, b, c = 1223, 342, \"Hello\"\n",
    "print(a+b+c)\n",
    "TypeError: unsupported operand type(s) for +: 'int' and 'str'\n",
    "```\n",
    "\n",
    "What other types of errors do you think can happen often?"
   ]
  },
  {
   "cell_type": "markdown",
   "metadata": {},
   "source": [
    "## Conclusions & Takeaways\n",
    "\n",
    "Python has both easy-to-understand syntax and a large variety of available tools, which makes Python a unique programming language. Because Python code is highly readable, it saves valuable time and resources.\n",
    "\n",
    "Python has uses far beyond what we've covered in this case, from game development to data visualization to networking. It is one of the best programming languages you can learn to further your career and is the fastest growing major programming language in the world."
   ]
  }
 ],
 "metadata": {
  "kernelspec": {
   "display_name": "Python 3",
   "language": "python",
   "name": "python3"
  },
  "language_info": {
   "codemirror_mode": {
    "name": "ipython",
    "version": 3
   },
   "file_extension": ".py",
   "mimetype": "text/x-python",
   "name": "python",
   "nbconvert_exporter": "python",
   "pygments_lexer": "ipython3",
   "version": "3.8.3"
  }
 },
 "nbformat": 4,
 "nbformat_minor": 2
}
